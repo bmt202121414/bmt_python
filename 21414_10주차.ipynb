{
  "nbformat": 4,
  "nbformat_minor": 0,
  "metadata": {
    "colab": {
      "name": "21414_10주차.ipynb",
      "provenance": [],
      "authorship_tag": "ABX9TyPFZ26NZF4u+Z1o/tdt4BKL",
      "include_colab_link": true
    },
    "kernelspec": {
      "name": "python3",
      "display_name": "Python 3"
    },
    "language_info": {
      "name": "python"
    }
  },
  "cells": [
    {
      "cell_type": "markdown",
      "metadata": {
        "id": "view-in-github",
        "colab_type": "text"
      },
      "source": [
        "<a href=\"https://colab.research.google.com/github/bmt202121414/bmt_python/blob/main/21414_10%EC%A3%BC%EC%B0%A8.ipynb\" target=\"_parent\"><img src=\"https://colab.research.google.com/assets/colab-badge.svg\" alt=\"Open In Colab\"/></a>"
      ]
    },
    {
      "cell_type": "code",
      "metadata": {
        "id": "DEwfm0Duf3U1"
      },
      "source": [
        "import pandas as pd \n",
        "import numpy as np \n",
        "import matplotlib.pyplot as plt"
      ],
      "execution_count": 1,
      "outputs": []
    },
    {
      "cell_type": "code",
      "metadata": {
        "id": "oDZD6IbhijWE"
      },
      "source": [
        "row = pd.date_range('20210507', periods=6)\n",
        "col = list('ABCD')\n",
        "df = pd.DataFrame(np.random.randn(6,4),index=row, columns=col)"
      ],
      "execution_count": 8,
      "outputs": []
    },
    {
      "cell_type": "code",
      "metadata": {
        "colab": {
          "base_uri": "https://localhost:8080/",
          "height": 235
        },
        "id": "cHnz3Bs2jUL-",
        "outputId": "e7c87bdb-cbfd-4f4c-bb0b-4deabd966ed4"
      },
      "source": [
        "df"
      ],
      "execution_count": 9,
      "outputs": [
        {
          "output_type": "execute_result",
          "data": {
            "text/html": [
              "<div>\n",
              "<style scoped>\n",
              "    .dataframe tbody tr th:only-of-type {\n",
              "        vertical-align: middle;\n",
              "    }\n",
              "\n",
              "    .dataframe tbody tr th {\n",
              "        vertical-align: top;\n",
              "    }\n",
              "\n",
              "    .dataframe thead th {\n",
              "        text-align: right;\n",
              "    }\n",
              "</style>\n",
              "<table border=\"1\" class=\"dataframe\">\n",
              "  <thead>\n",
              "    <tr style=\"text-align: right;\">\n",
              "      <th></th>\n",
              "      <th>A</th>\n",
              "      <th>B</th>\n",
              "      <th>C</th>\n",
              "      <th>D</th>\n",
              "    </tr>\n",
              "  </thead>\n",
              "  <tbody>\n",
              "    <tr>\n",
              "      <th>2021-05-07</th>\n",
              "      <td>-0.400063</td>\n",
              "      <td>1.484314</td>\n",
              "      <td>-0.181211</td>\n",
              "      <td>1.407233</td>\n",
              "    </tr>\n",
              "    <tr>\n",
              "      <th>2021-05-08</th>\n",
              "      <td>0.912445</td>\n",
              "      <td>0.742802</td>\n",
              "      <td>0.009462</td>\n",
              "      <td>-0.181393</td>\n",
              "    </tr>\n",
              "    <tr>\n",
              "      <th>2021-05-09</th>\n",
              "      <td>-0.338521</td>\n",
              "      <td>-0.083245</td>\n",
              "      <td>1.037855</td>\n",
              "      <td>1.887871</td>\n",
              "    </tr>\n",
              "    <tr>\n",
              "      <th>2021-05-10</th>\n",
              "      <td>-1.394345</td>\n",
              "      <td>1.057487</td>\n",
              "      <td>1.228240</td>\n",
              "      <td>-0.837828</td>\n",
              "    </tr>\n",
              "    <tr>\n",
              "      <th>2021-05-11</th>\n",
              "      <td>1.897772</td>\n",
              "      <td>-1.219331</td>\n",
              "      <td>-0.489267</td>\n",
              "      <td>0.177021</td>\n",
              "    </tr>\n",
              "    <tr>\n",
              "      <th>2021-05-12</th>\n",
              "      <td>-0.331907</td>\n",
              "      <td>0.317568</td>\n",
              "      <td>0.326509</td>\n",
              "      <td>0.052806</td>\n",
              "    </tr>\n",
              "  </tbody>\n",
              "</table>\n",
              "</div>"
            ],
            "text/plain": [
              "                   A         B         C         D\n",
              "2021-05-07 -0.400063  1.484314 -0.181211  1.407233\n",
              "2021-05-08  0.912445  0.742802  0.009462 -0.181393\n",
              "2021-05-09 -0.338521 -0.083245  1.037855  1.887871\n",
              "2021-05-10 -1.394345  1.057487  1.228240 -0.837828\n",
              "2021-05-11  1.897772 -1.219331 -0.489267  0.177021\n",
              "2021-05-12 -0.331907  0.317568  0.326509  0.052806"
            ]
          },
          "metadata": {
            "tags": []
          },
          "execution_count": 9
        }
      ]
    },
    {
      "cell_type": "code",
      "metadata": {
        "id": "Dj4R3ciGkEuc"
      },
      "source": [
        "s1 = pd.Series([1, 2, 3, 4, 5, 6], index=pd.date_range('20210507', periods=6))"
      ],
      "execution_count": 11,
      "outputs": []
    },
    {
      "cell_type": "code",
      "metadata": {
        "id": "esH03ACnlxBd"
      },
      "source": [
        "df['F'] = s1"
      ],
      "execution_count": 12,
      "outputs": []
    },
    {
      "cell_type": "code",
      "metadata": {
        "colab": {
          "base_uri": "https://localhost:8080/",
          "height": 235
        },
        "id": "n9dTMGThmKF6",
        "outputId": "daa304cc-43af-4f40-9e4f-0545af036ea9"
      },
      "source": [
        "df"
      ],
      "execution_count": 13,
      "outputs": [
        {
          "output_type": "execute_result",
          "data": {
            "text/html": [
              "<div>\n",
              "<style scoped>\n",
              "    .dataframe tbody tr th:only-of-type {\n",
              "        vertical-align: middle;\n",
              "    }\n",
              "\n",
              "    .dataframe tbody tr th {\n",
              "        vertical-align: top;\n",
              "    }\n",
              "\n",
              "    .dataframe thead th {\n",
              "        text-align: right;\n",
              "    }\n",
              "</style>\n",
              "<table border=\"1\" class=\"dataframe\">\n",
              "  <thead>\n",
              "    <tr style=\"text-align: right;\">\n",
              "      <th></th>\n",
              "      <th>A</th>\n",
              "      <th>B</th>\n",
              "      <th>C</th>\n",
              "      <th>D</th>\n",
              "      <th>F</th>\n",
              "    </tr>\n",
              "  </thead>\n",
              "  <tbody>\n",
              "    <tr>\n",
              "      <th>2021-05-07</th>\n",
              "      <td>-0.400063</td>\n",
              "      <td>1.484314</td>\n",
              "      <td>-0.181211</td>\n",
              "      <td>1.407233</td>\n",
              "      <td>1</td>\n",
              "    </tr>\n",
              "    <tr>\n",
              "      <th>2021-05-08</th>\n",
              "      <td>0.912445</td>\n",
              "      <td>0.742802</td>\n",
              "      <td>0.009462</td>\n",
              "      <td>-0.181393</td>\n",
              "      <td>2</td>\n",
              "    </tr>\n",
              "    <tr>\n",
              "      <th>2021-05-09</th>\n",
              "      <td>-0.338521</td>\n",
              "      <td>-0.083245</td>\n",
              "      <td>1.037855</td>\n",
              "      <td>1.887871</td>\n",
              "      <td>3</td>\n",
              "    </tr>\n",
              "    <tr>\n",
              "      <th>2021-05-10</th>\n",
              "      <td>-1.394345</td>\n",
              "      <td>1.057487</td>\n",
              "      <td>1.228240</td>\n",
              "      <td>-0.837828</td>\n",
              "      <td>4</td>\n",
              "    </tr>\n",
              "    <tr>\n",
              "      <th>2021-05-11</th>\n",
              "      <td>1.897772</td>\n",
              "      <td>-1.219331</td>\n",
              "      <td>-0.489267</td>\n",
              "      <td>0.177021</td>\n",
              "      <td>5</td>\n",
              "    </tr>\n",
              "    <tr>\n",
              "      <th>2021-05-12</th>\n",
              "      <td>-0.331907</td>\n",
              "      <td>0.317568</td>\n",
              "      <td>0.326509</td>\n",
              "      <td>0.052806</td>\n",
              "      <td>6</td>\n",
              "    </tr>\n",
              "  </tbody>\n",
              "</table>\n",
              "</div>"
            ],
            "text/plain": [
              "                   A         B         C         D  F\n",
              "2021-05-07 -0.400063  1.484314 -0.181211  1.407233  1\n",
              "2021-05-08  0.912445  0.742802  0.009462 -0.181393  2\n",
              "2021-05-09 -0.338521 -0.083245  1.037855  1.887871  3\n",
              "2021-05-10 -1.394345  1.057487  1.228240 -0.837828  4\n",
              "2021-05-11  1.897772 -1.219331 -0.489267  0.177021  5\n",
              "2021-05-12 -0.331907  0.317568  0.326509  0.052806  6"
            ]
          },
          "metadata": {
            "tags": []
          },
          "execution_count": 13
        }
      ]
    },
    {
      "cell_type": "code",
      "metadata": {
        "colab": {
          "base_uri": "https://localhost:8080/",
          "height": 235
        },
        "id": "xxyIGqOmmLB6",
        "outputId": "324ede7e-5e87-42fb-e7b6-7290036c820b"
      },
      "source": [
        "df>0 "
      ],
      "execution_count": 14,
      "outputs": [
        {
          "output_type": "execute_result",
          "data": {
            "text/html": [
              "<div>\n",
              "<style scoped>\n",
              "    .dataframe tbody tr th:only-of-type {\n",
              "        vertical-align: middle;\n",
              "    }\n",
              "\n",
              "    .dataframe tbody tr th {\n",
              "        vertical-align: top;\n",
              "    }\n",
              "\n",
              "    .dataframe thead th {\n",
              "        text-align: right;\n",
              "    }\n",
              "</style>\n",
              "<table border=\"1\" class=\"dataframe\">\n",
              "  <thead>\n",
              "    <tr style=\"text-align: right;\">\n",
              "      <th></th>\n",
              "      <th>A</th>\n",
              "      <th>B</th>\n",
              "      <th>C</th>\n",
              "      <th>D</th>\n",
              "      <th>F</th>\n",
              "    </tr>\n",
              "  </thead>\n",
              "  <tbody>\n",
              "    <tr>\n",
              "      <th>2021-05-07</th>\n",
              "      <td>False</td>\n",
              "      <td>True</td>\n",
              "      <td>False</td>\n",
              "      <td>True</td>\n",
              "      <td>True</td>\n",
              "    </tr>\n",
              "    <tr>\n",
              "      <th>2021-05-08</th>\n",
              "      <td>True</td>\n",
              "      <td>True</td>\n",
              "      <td>True</td>\n",
              "      <td>False</td>\n",
              "      <td>True</td>\n",
              "    </tr>\n",
              "    <tr>\n",
              "      <th>2021-05-09</th>\n",
              "      <td>False</td>\n",
              "      <td>False</td>\n",
              "      <td>True</td>\n",
              "      <td>True</td>\n",
              "      <td>True</td>\n",
              "    </tr>\n",
              "    <tr>\n",
              "      <th>2021-05-10</th>\n",
              "      <td>False</td>\n",
              "      <td>True</td>\n",
              "      <td>True</td>\n",
              "      <td>False</td>\n",
              "      <td>True</td>\n",
              "    </tr>\n",
              "    <tr>\n",
              "      <th>2021-05-11</th>\n",
              "      <td>True</td>\n",
              "      <td>False</td>\n",
              "      <td>False</td>\n",
              "      <td>True</td>\n",
              "      <td>True</td>\n",
              "    </tr>\n",
              "    <tr>\n",
              "      <th>2021-05-12</th>\n",
              "      <td>False</td>\n",
              "      <td>True</td>\n",
              "      <td>True</td>\n",
              "      <td>True</td>\n",
              "      <td>True</td>\n",
              "    </tr>\n",
              "  </tbody>\n",
              "</table>\n",
              "</div>"
            ],
            "text/plain": [
              "                A      B      C      D     F\n",
              "2021-05-07  False   True  False   True  True\n",
              "2021-05-08   True   True   True  False  True\n",
              "2021-05-09  False  False   True   True  True\n",
              "2021-05-10  False   True   True  False  True\n",
              "2021-05-11   True  False  False   True  True\n",
              "2021-05-12  False   True   True   True  True"
            ]
          },
          "metadata": {
            "tags": []
          },
          "execution_count": 14
        }
      ]
    },
    {
      "cell_type": "code",
      "metadata": {
        "colab": {
          "base_uri": "https://localhost:8080/",
          "height": 235
        },
        "id": "_WauAnq-meXM",
        "outputId": "898f82d8-1b8c-4da1-cc8b-08393f7b7a91"
      },
      "source": [
        "df[df>0]"
      ],
      "execution_count": 15,
      "outputs": [
        {
          "output_type": "execute_result",
          "data": {
            "text/html": [
              "<div>\n",
              "<style scoped>\n",
              "    .dataframe tbody tr th:only-of-type {\n",
              "        vertical-align: middle;\n",
              "    }\n",
              "\n",
              "    .dataframe tbody tr th {\n",
              "        vertical-align: top;\n",
              "    }\n",
              "\n",
              "    .dataframe thead th {\n",
              "        text-align: right;\n",
              "    }\n",
              "</style>\n",
              "<table border=\"1\" class=\"dataframe\">\n",
              "  <thead>\n",
              "    <tr style=\"text-align: right;\">\n",
              "      <th></th>\n",
              "      <th>A</th>\n",
              "      <th>B</th>\n",
              "      <th>C</th>\n",
              "      <th>D</th>\n",
              "      <th>F</th>\n",
              "    </tr>\n",
              "  </thead>\n",
              "  <tbody>\n",
              "    <tr>\n",
              "      <th>2021-05-07</th>\n",
              "      <td>NaN</td>\n",
              "      <td>1.484314</td>\n",
              "      <td>NaN</td>\n",
              "      <td>1.407233</td>\n",
              "      <td>1</td>\n",
              "    </tr>\n",
              "    <tr>\n",
              "      <th>2021-05-08</th>\n",
              "      <td>0.912445</td>\n",
              "      <td>0.742802</td>\n",
              "      <td>0.009462</td>\n",
              "      <td>NaN</td>\n",
              "      <td>2</td>\n",
              "    </tr>\n",
              "    <tr>\n",
              "      <th>2021-05-09</th>\n",
              "      <td>NaN</td>\n",
              "      <td>NaN</td>\n",
              "      <td>1.037855</td>\n",
              "      <td>1.887871</td>\n",
              "      <td>3</td>\n",
              "    </tr>\n",
              "    <tr>\n",
              "      <th>2021-05-10</th>\n",
              "      <td>NaN</td>\n",
              "      <td>1.057487</td>\n",
              "      <td>1.228240</td>\n",
              "      <td>NaN</td>\n",
              "      <td>4</td>\n",
              "    </tr>\n",
              "    <tr>\n",
              "      <th>2021-05-11</th>\n",
              "      <td>1.897772</td>\n",
              "      <td>NaN</td>\n",
              "      <td>NaN</td>\n",
              "      <td>0.177021</td>\n",
              "      <td>5</td>\n",
              "    </tr>\n",
              "    <tr>\n",
              "      <th>2021-05-12</th>\n",
              "      <td>NaN</td>\n",
              "      <td>0.317568</td>\n",
              "      <td>0.326509</td>\n",
              "      <td>0.052806</td>\n",
              "      <td>6</td>\n",
              "    </tr>\n",
              "  </tbody>\n",
              "</table>\n",
              "</div>"
            ],
            "text/plain": [
              "                   A         B         C         D  F\n",
              "2021-05-07       NaN  1.484314       NaN  1.407233  1\n",
              "2021-05-08  0.912445  0.742802  0.009462       NaN  2\n",
              "2021-05-09       NaN       NaN  1.037855  1.887871  3\n",
              "2021-05-10       NaN  1.057487  1.228240       NaN  4\n",
              "2021-05-11  1.897772       NaN       NaN  0.177021  5\n",
              "2021-05-12       NaN  0.317568  0.326509  0.052806  6"
            ]
          },
          "metadata": {
            "tags": []
          },
          "execution_count": 15
        }
      ]
    },
    {
      "cell_type": "code",
      "metadata": {
        "id": "NJ5jkix8mjWs"
      },
      "source": [
        "df2=df.copy()"
      ],
      "execution_count": 16,
      "outputs": []
    },
    {
      "cell_type": "code",
      "metadata": {
        "colab": {
          "base_uri": "https://localhost:8080/",
          "height": 235
        },
        "id": "XR_lXsc_m0RK",
        "outputId": "589b9e67-5611-4104-f0f2-27ceabdd72eb"
      },
      "source": [
        "df2"
      ],
      "execution_count": 17,
      "outputs": [
        {
          "output_type": "execute_result",
          "data": {
            "text/html": [
              "<div>\n",
              "<style scoped>\n",
              "    .dataframe tbody tr th:only-of-type {\n",
              "        vertical-align: middle;\n",
              "    }\n",
              "\n",
              "    .dataframe tbody tr th {\n",
              "        vertical-align: top;\n",
              "    }\n",
              "\n",
              "    .dataframe thead th {\n",
              "        text-align: right;\n",
              "    }\n",
              "</style>\n",
              "<table border=\"1\" class=\"dataframe\">\n",
              "  <thead>\n",
              "    <tr style=\"text-align: right;\">\n",
              "      <th></th>\n",
              "      <th>A</th>\n",
              "      <th>B</th>\n",
              "      <th>C</th>\n",
              "      <th>D</th>\n",
              "      <th>F</th>\n",
              "    </tr>\n",
              "  </thead>\n",
              "  <tbody>\n",
              "    <tr>\n",
              "      <th>2021-05-07</th>\n",
              "      <td>-0.400063</td>\n",
              "      <td>1.484314</td>\n",
              "      <td>-0.181211</td>\n",
              "      <td>1.407233</td>\n",
              "      <td>1</td>\n",
              "    </tr>\n",
              "    <tr>\n",
              "      <th>2021-05-08</th>\n",
              "      <td>0.912445</td>\n",
              "      <td>0.742802</td>\n",
              "      <td>0.009462</td>\n",
              "      <td>-0.181393</td>\n",
              "      <td>2</td>\n",
              "    </tr>\n",
              "    <tr>\n",
              "      <th>2021-05-09</th>\n",
              "      <td>-0.338521</td>\n",
              "      <td>-0.083245</td>\n",
              "      <td>1.037855</td>\n",
              "      <td>1.887871</td>\n",
              "      <td>3</td>\n",
              "    </tr>\n",
              "    <tr>\n",
              "      <th>2021-05-10</th>\n",
              "      <td>-1.394345</td>\n",
              "      <td>1.057487</td>\n",
              "      <td>1.228240</td>\n",
              "      <td>-0.837828</td>\n",
              "      <td>4</td>\n",
              "    </tr>\n",
              "    <tr>\n",
              "      <th>2021-05-11</th>\n",
              "      <td>1.897772</td>\n",
              "      <td>-1.219331</td>\n",
              "      <td>-0.489267</td>\n",
              "      <td>0.177021</td>\n",
              "      <td>5</td>\n",
              "    </tr>\n",
              "    <tr>\n",
              "      <th>2021-05-12</th>\n",
              "      <td>-0.331907</td>\n",
              "      <td>0.317568</td>\n",
              "      <td>0.326509</td>\n",
              "      <td>0.052806</td>\n",
              "      <td>6</td>\n",
              "    </tr>\n",
              "  </tbody>\n",
              "</table>\n",
              "</div>"
            ],
            "text/plain": [
              "                   A         B         C         D  F\n",
              "2021-05-07 -0.400063  1.484314 -0.181211  1.407233  1\n",
              "2021-05-08  0.912445  0.742802  0.009462 -0.181393  2\n",
              "2021-05-09 -0.338521 -0.083245  1.037855  1.887871  3\n",
              "2021-05-10 -1.394345  1.057487  1.228240 -0.837828  4\n",
              "2021-05-11  1.897772 -1.219331 -0.489267  0.177021  5\n",
              "2021-05-12 -0.331907  0.317568  0.326509  0.052806  6"
            ]
          },
          "metadata": {
            "tags": []
          },
          "execution_count": 17
        }
      ]
    },
    {
      "cell_type": "code",
      "metadata": {
        "colab": {
          "base_uri": "https://localhost:8080/",
          "height": 235
        },
        "id": "0qUiQ1FRm05a",
        "outputId": "567fe1d7-d32c-41a2-b87f-6b12bcbfb994"
      },
      "source": [
        "df2[df2>0]"
      ],
      "execution_count": 18,
      "outputs": [
        {
          "output_type": "execute_result",
          "data": {
            "text/html": [
              "<div>\n",
              "<style scoped>\n",
              "    .dataframe tbody tr th:only-of-type {\n",
              "        vertical-align: middle;\n",
              "    }\n",
              "\n",
              "    .dataframe tbody tr th {\n",
              "        vertical-align: top;\n",
              "    }\n",
              "\n",
              "    .dataframe thead th {\n",
              "        text-align: right;\n",
              "    }\n",
              "</style>\n",
              "<table border=\"1\" class=\"dataframe\">\n",
              "  <thead>\n",
              "    <tr style=\"text-align: right;\">\n",
              "      <th></th>\n",
              "      <th>A</th>\n",
              "      <th>B</th>\n",
              "      <th>C</th>\n",
              "      <th>D</th>\n",
              "      <th>F</th>\n",
              "    </tr>\n",
              "  </thead>\n",
              "  <tbody>\n",
              "    <tr>\n",
              "      <th>2021-05-07</th>\n",
              "      <td>NaN</td>\n",
              "      <td>1.484314</td>\n",
              "      <td>NaN</td>\n",
              "      <td>1.407233</td>\n",
              "      <td>1</td>\n",
              "    </tr>\n",
              "    <tr>\n",
              "      <th>2021-05-08</th>\n",
              "      <td>0.912445</td>\n",
              "      <td>0.742802</td>\n",
              "      <td>0.009462</td>\n",
              "      <td>NaN</td>\n",
              "      <td>2</td>\n",
              "    </tr>\n",
              "    <tr>\n",
              "      <th>2021-05-09</th>\n",
              "      <td>NaN</td>\n",
              "      <td>NaN</td>\n",
              "      <td>1.037855</td>\n",
              "      <td>1.887871</td>\n",
              "      <td>3</td>\n",
              "    </tr>\n",
              "    <tr>\n",
              "      <th>2021-05-10</th>\n",
              "      <td>NaN</td>\n",
              "      <td>1.057487</td>\n",
              "      <td>1.228240</td>\n",
              "      <td>NaN</td>\n",
              "      <td>4</td>\n",
              "    </tr>\n",
              "    <tr>\n",
              "      <th>2021-05-11</th>\n",
              "      <td>1.897772</td>\n",
              "      <td>NaN</td>\n",
              "      <td>NaN</td>\n",
              "      <td>0.177021</td>\n",
              "      <td>5</td>\n",
              "    </tr>\n",
              "    <tr>\n",
              "      <th>2021-05-12</th>\n",
              "      <td>NaN</td>\n",
              "      <td>0.317568</td>\n",
              "      <td>0.326509</td>\n",
              "      <td>0.052806</td>\n",
              "      <td>6</td>\n",
              "    </tr>\n",
              "  </tbody>\n",
              "</table>\n",
              "</div>"
            ],
            "text/plain": [
              "                   A         B         C         D  F\n",
              "2021-05-07       NaN  1.484314       NaN  1.407233  1\n",
              "2021-05-08  0.912445  0.742802  0.009462       NaN  2\n",
              "2021-05-09       NaN       NaN  1.037855  1.887871  3\n",
              "2021-05-10       NaN  1.057487  1.228240       NaN  4\n",
              "2021-05-11  1.897772       NaN       NaN  0.177021  5\n",
              "2021-05-12       NaN  0.317568  0.326509  0.052806  6"
            ]
          },
          "metadata": {
            "tags": []
          },
          "execution_count": 18
        }
      ]
    },
    {
      "cell_type": "code",
      "metadata": {
        "id": "vVsIwAA3m3Nq"
      },
      "source": [
        "df2[df2>0] = -df"
      ],
      "execution_count": 20,
      "outputs": []
    },
    {
      "cell_type": "code",
      "metadata": {
        "colab": {
          "base_uri": "https://localhost:8080/",
          "height": 235
        },
        "id": "es3Kg2SOm9BU",
        "outputId": "a72c93c5-6689-418b-caa5-c92efb9fb3be"
      },
      "source": [
        "df2"
      ],
      "execution_count": 21,
      "outputs": [
        {
          "output_type": "execute_result",
          "data": {
            "text/html": [
              "<div>\n",
              "<style scoped>\n",
              "    .dataframe tbody tr th:only-of-type {\n",
              "        vertical-align: middle;\n",
              "    }\n",
              "\n",
              "    .dataframe tbody tr th {\n",
              "        vertical-align: top;\n",
              "    }\n",
              "\n",
              "    .dataframe thead th {\n",
              "        text-align: right;\n",
              "    }\n",
              "</style>\n",
              "<table border=\"1\" class=\"dataframe\">\n",
              "  <thead>\n",
              "    <tr style=\"text-align: right;\">\n",
              "      <th></th>\n",
              "      <th>A</th>\n",
              "      <th>B</th>\n",
              "      <th>C</th>\n",
              "      <th>D</th>\n",
              "      <th>F</th>\n",
              "    </tr>\n",
              "  </thead>\n",
              "  <tbody>\n",
              "    <tr>\n",
              "      <th>2021-05-07</th>\n",
              "      <td>-0.400063</td>\n",
              "      <td>-1.484314</td>\n",
              "      <td>-0.181211</td>\n",
              "      <td>-1.407233</td>\n",
              "      <td>-1</td>\n",
              "    </tr>\n",
              "    <tr>\n",
              "      <th>2021-05-08</th>\n",
              "      <td>-0.912445</td>\n",
              "      <td>-0.742802</td>\n",
              "      <td>-0.009462</td>\n",
              "      <td>-0.181393</td>\n",
              "      <td>-2</td>\n",
              "    </tr>\n",
              "    <tr>\n",
              "      <th>2021-05-09</th>\n",
              "      <td>-0.338521</td>\n",
              "      <td>-0.083245</td>\n",
              "      <td>-1.037855</td>\n",
              "      <td>-1.887871</td>\n",
              "      <td>-3</td>\n",
              "    </tr>\n",
              "    <tr>\n",
              "      <th>2021-05-10</th>\n",
              "      <td>-1.394345</td>\n",
              "      <td>-1.057487</td>\n",
              "      <td>-1.228240</td>\n",
              "      <td>-0.837828</td>\n",
              "      <td>-4</td>\n",
              "    </tr>\n",
              "    <tr>\n",
              "      <th>2021-05-11</th>\n",
              "      <td>-1.897772</td>\n",
              "      <td>-1.219331</td>\n",
              "      <td>-0.489267</td>\n",
              "      <td>-0.177021</td>\n",
              "      <td>-5</td>\n",
              "    </tr>\n",
              "    <tr>\n",
              "      <th>2021-05-12</th>\n",
              "      <td>-0.331907</td>\n",
              "      <td>-0.317568</td>\n",
              "      <td>-0.326509</td>\n",
              "      <td>-0.052806</td>\n",
              "      <td>-6</td>\n",
              "    </tr>\n",
              "  </tbody>\n",
              "</table>\n",
              "</div>"
            ],
            "text/plain": [
              "                   A         B         C         D  F\n",
              "2021-05-07 -0.400063 -1.484314 -0.181211 -1.407233 -1\n",
              "2021-05-08 -0.912445 -0.742802 -0.009462 -0.181393 -2\n",
              "2021-05-09 -0.338521 -0.083245 -1.037855 -1.887871 -3\n",
              "2021-05-10 -1.394345 -1.057487 -1.228240 -0.837828 -4\n",
              "2021-05-11 -1.897772 -1.219331 -0.489267 -0.177021 -5\n",
              "2021-05-12 -0.331907 -0.317568 -0.326509 -0.052806 -6"
            ]
          },
          "metadata": {
            "tags": []
          },
          "execution_count": 21
        }
      ]
    },
    {
      "cell_type": "code",
      "metadata": {
        "colab": {
          "base_uri": "https://localhost:8080/",
          "height": 235
        },
        "id": "GqLeeVoKnBhl",
        "outputId": "0280b2fd-b3f7-49ea-da5c-86be2708ee02"
      },
      "source": [
        "df"
      ],
      "execution_count": 22,
      "outputs": [
        {
          "output_type": "execute_result",
          "data": {
            "text/html": [
              "<div>\n",
              "<style scoped>\n",
              "    .dataframe tbody tr th:only-of-type {\n",
              "        vertical-align: middle;\n",
              "    }\n",
              "\n",
              "    .dataframe tbody tr th {\n",
              "        vertical-align: top;\n",
              "    }\n",
              "\n",
              "    .dataframe thead th {\n",
              "        text-align: right;\n",
              "    }\n",
              "</style>\n",
              "<table border=\"1\" class=\"dataframe\">\n",
              "  <thead>\n",
              "    <tr style=\"text-align: right;\">\n",
              "      <th></th>\n",
              "      <th>A</th>\n",
              "      <th>B</th>\n",
              "      <th>C</th>\n",
              "      <th>D</th>\n",
              "      <th>F</th>\n",
              "    </tr>\n",
              "  </thead>\n",
              "  <tbody>\n",
              "    <tr>\n",
              "      <th>2021-05-07</th>\n",
              "      <td>-0.400063</td>\n",
              "      <td>1.484314</td>\n",
              "      <td>-0.181211</td>\n",
              "      <td>1.407233</td>\n",
              "      <td>1</td>\n",
              "    </tr>\n",
              "    <tr>\n",
              "      <th>2021-05-08</th>\n",
              "      <td>0.912445</td>\n",
              "      <td>0.742802</td>\n",
              "      <td>0.009462</td>\n",
              "      <td>-0.181393</td>\n",
              "      <td>2</td>\n",
              "    </tr>\n",
              "    <tr>\n",
              "      <th>2021-05-09</th>\n",
              "      <td>-0.338521</td>\n",
              "      <td>-0.083245</td>\n",
              "      <td>1.037855</td>\n",
              "      <td>1.887871</td>\n",
              "      <td>3</td>\n",
              "    </tr>\n",
              "    <tr>\n",
              "      <th>2021-05-10</th>\n",
              "      <td>-1.394345</td>\n",
              "      <td>1.057487</td>\n",
              "      <td>1.228240</td>\n",
              "      <td>-0.837828</td>\n",
              "      <td>4</td>\n",
              "    </tr>\n",
              "    <tr>\n",
              "      <th>2021-05-11</th>\n",
              "      <td>1.897772</td>\n",
              "      <td>-1.219331</td>\n",
              "      <td>-0.489267</td>\n",
              "      <td>0.177021</td>\n",
              "      <td>5</td>\n",
              "    </tr>\n",
              "    <tr>\n",
              "      <th>2021-05-12</th>\n",
              "      <td>-0.331907</td>\n",
              "      <td>0.317568</td>\n",
              "      <td>0.326509</td>\n",
              "      <td>0.052806</td>\n",
              "      <td>6</td>\n",
              "    </tr>\n",
              "  </tbody>\n",
              "</table>\n",
              "</div>"
            ],
            "text/plain": [
              "                   A         B         C         D  F\n",
              "2021-05-07 -0.400063  1.484314 -0.181211  1.407233  1\n",
              "2021-05-08  0.912445  0.742802  0.009462 -0.181393  2\n",
              "2021-05-09 -0.338521 -0.083245  1.037855  1.887871  3\n",
              "2021-05-10 -1.394345  1.057487  1.228240 -0.837828  4\n",
              "2021-05-11  1.897772 -1.219331 -0.489267  0.177021  5\n",
              "2021-05-12 -0.331907  0.317568  0.326509  0.052806  6"
            ]
          },
          "metadata": {
            "tags": []
          },
          "execution_count": 22
        }
      ]
    },
    {
      "cell_type": "code",
      "metadata": {
        "colab": {
          "base_uri": "https://localhost:8080/"
        },
        "id": "AciNGgHvnrGq",
        "outputId": "535b9c8e-6e1c-4b26-8c01-8558ff8493ad"
      },
      "source": [
        "df.mean()"
      ],
      "execution_count": 23,
      "outputs": [
        {
          "output_type": "execute_result",
          "data": {
            "text/plain": [
              "A    0.057564\n",
              "B    0.383266\n",
              "C    0.321931\n",
              "D    0.417618\n",
              "F    3.500000\n",
              "dtype: float64"
            ]
          },
          "metadata": {
            "tags": []
          },
          "execution_count": 23
        }
      ]
    },
    {
      "cell_type": "code",
      "metadata": {
        "colab": {
          "base_uri": "https://localhost:8080/"
        },
        "id": "HXqUKCbDnxFq",
        "outputId": "f1a0e432-2d31-44b0-cfda-916a1b7078f1"
      },
      "source": [
        "df.mean(1)"
      ],
      "execution_count": 24,
      "outputs": [
        {
          "output_type": "execute_result",
          "data": {
            "text/plain": [
              "2021-05-07    0.662055\n",
              "2021-05-08    0.696663\n",
              "2021-05-09    1.100792\n",
              "2021-05-10    0.810711\n",
              "2021-05-11    1.073239\n",
              "2021-05-12    1.272995\n",
              "Freq: D, dtype: float64"
            ]
          },
          "metadata": {
            "tags": []
          },
          "execution_count": 24
        }
      ]
    },
    {
      "cell_type": "code",
      "metadata": {
        "colab": {
          "base_uri": "https://localhost:8080/",
          "height": 487
        },
        "id": "Sj0gnoTeoRPZ",
        "outputId": "32c0d91d-4ff0-47a8-d186-bc2c4e04b87f"
      },
      "source": [
        "print(df.apply(np.cumsum));print() # 데이터에 함수를 적용\n",
        "# np.cumsum : 배열에서 주어진 축에 따라 누적되는 원소들의 누적 합을 계산하는 함수\n",
        "\n",
        "print(df.apply(lambda x: x.max() - x.min())) # 행에 대해 함수 적용\n",
        "df.apply(np.cumsum)"
      ],
      "execution_count": 27,
      "outputs": [
        {
          "output_type": "stream",
          "text": [
            "                   A         B         C         D   F\n",
            "2021-05-07 -0.400063  1.484314 -0.181211  1.407233   1\n",
            "2021-05-08  0.512382  2.227116 -0.171749  1.225840   3\n",
            "2021-05-09  0.173861  2.143871  0.866106  3.113711   6\n",
            "2021-05-10 -1.220483  3.201358  2.094347  2.275883  10\n",
            "2021-05-11  0.677288  1.982027  1.605080  2.452904  15\n",
            "2021-05-12  0.345382  2.299595  1.931588  2.505710  21\n",
            "\n",
            "A    3.292117\n",
            "B    2.703645\n",
            "C    1.717508\n",
            "D    2.725698\n",
            "F    5.000000\n",
            "dtype: float64\n"
          ],
          "name": "stdout"
        },
        {
          "output_type": "execute_result",
          "data": {
            "text/html": [
              "<div>\n",
              "<style scoped>\n",
              "    .dataframe tbody tr th:only-of-type {\n",
              "        vertical-align: middle;\n",
              "    }\n",
              "\n",
              "    .dataframe tbody tr th {\n",
              "        vertical-align: top;\n",
              "    }\n",
              "\n",
              "    .dataframe thead th {\n",
              "        text-align: right;\n",
              "    }\n",
              "</style>\n",
              "<table border=\"1\" class=\"dataframe\">\n",
              "  <thead>\n",
              "    <tr style=\"text-align: right;\">\n",
              "      <th></th>\n",
              "      <th>A</th>\n",
              "      <th>B</th>\n",
              "      <th>C</th>\n",
              "      <th>D</th>\n",
              "      <th>F</th>\n",
              "    </tr>\n",
              "  </thead>\n",
              "  <tbody>\n",
              "    <tr>\n",
              "      <th>2021-05-07</th>\n",
              "      <td>-0.400063</td>\n",
              "      <td>1.484314</td>\n",
              "      <td>-0.181211</td>\n",
              "      <td>1.407233</td>\n",
              "      <td>1</td>\n",
              "    </tr>\n",
              "    <tr>\n",
              "      <th>2021-05-08</th>\n",
              "      <td>0.512382</td>\n",
              "      <td>2.227116</td>\n",
              "      <td>-0.171749</td>\n",
              "      <td>1.225840</td>\n",
              "      <td>3</td>\n",
              "    </tr>\n",
              "    <tr>\n",
              "      <th>2021-05-09</th>\n",
              "      <td>0.173861</td>\n",
              "      <td>2.143871</td>\n",
              "      <td>0.866106</td>\n",
              "      <td>3.113711</td>\n",
              "      <td>6</td>\n",
              "    </tr>\n",
              "    <tr>\n",
              "      <th>2021-05-10</th>\n",
              "      <td>-1.220483</td>\n",
              "      <td>3.201358</td>\n",
              "      <td>2.094347</td>\n",
              "      <td>2.275883</td>\n",
              "      <td>10</td>\n",
              "    </tr>\n",
              "    <tr>\n",
              "      <th>2021-05-11</th>\n",
              "      <td>0.677288</td>\n",
              "      <td>1.982027</td>\n",
              "      <td>1.605080</td>\n",
              "      <td>2.452904</td>\n",
              "      <td>15</td>\n",
              "    </tr>\n",
              "    <tr>\n",
              "      <th>2021-05-12</th>\n",
              "      <td>0.345382</td>\n",
              "      <td>2.299595</td>\n",
              "      <td>1.931588</td>\n",
              "      <td>2.505710</td>\n",
              "      <td>21</td>\n",
              "    </tr>\n",
              "  </tbody>\n",
              "</table>\n",
              "</div>"
            ],
            "text/plain": [
              "                   A         B         C         D   F\n",
              "2021-05-07 -0.400063  1.484314 -0.181211  1.407233   1\n",
              "2021-05-08  0.512382  2.227116 -0.171749  1.225840   3\n",
              "2021-05-09  0.173861  2.143871  0.866106  3.113711   6\n",
              "2021-05-10 -1.220483  3.201358  2.094347  2.275883  10\n",
              "2021-05-11  0.677288  1.982027  1.605080  2.452904  15\n",
              "2021-05-12  0.345382  2.299595  1.931588  2.505710  21"
            ]
          },
          "metadata": {
            "tags": []
          },
          "execution_count": 27
        }
      ]
    },
    {
      "cell_type": "code",
      "metadata": {
        "colab": {
          "base_uri": "https://localhost:8080/",
          "height": 235
        },
        "id": "x1jXgJFwpVOL",
        "outputId": "ce5c17cb-b382-4612-dcb3-cea6d6481a57"
      },
      "source": [
        "df"
      ],
      "execution_count": 28,
      "outputs": [
        {
          "output_type": "execute_result",
          "data": {
            "text/html": [
              "<div>\n",
              "<style scoped>\n",
              "    .dataframe tbody tr th:only-of-type {\n",
              "        vertical-align: middle;\n",
              "    }\n",
              "\n",
              "    .dataframe tbody tr th {\n",
              "        vertical-align: top;\n",
              "    }\n",
              "\n",
              "    .dataframe thead th {\n",
              "        text-align: right;\n",
              "    }\n",
              "</style>\n",
              "<table border=\"1\" class=\"dataframe\">\n",
              "  <thead>\n",
              "    <tr style=\"text-align: right;\">\n",
              "      <th></th>\n",
              "      <th>A</th>\n",
              "      <th>B</th>\n",
              "      <th>C</th>\n",
              "      <th>D</th>\n",
              "      <th>F</th>\n",
              "    </tr>\n",
              "  </thead>\n",
              "  <tbody>\n",
              "    <tr>\n",
              "      <th>2021-05-07</th>\n",
              "      <td>-0.400063</td>\n",
              "      <td>1.484314</td>\n",
              "      <td>-0.181211</td>\n",
              "      <td>1.407233</td>\n",
              "      <td>1</td>\n",
              "    </tr>\n",
              "    <tr>\n",
              "      <th>2021-05-08</th>\n",
              "      <td>0.912445</td>\n",
              "      <td>0.742802</td>\n",
              "      <td>0.009462</td>\n",
              "      <td>-0.181393</td>\n",
              "      <td>2</td>\n",
              "    </tr>\n",
              "    <tr>\n",
              "      <th>2021-05-09</th>\n",
              "      <td>-0.338521</td>\n",
              "      <td>-0.083245</td>\n",
              "      <td>1.037855</td>\n",
              "      <td>1.887871</td>\n",
              "      <td>3</td>\n",
              "    </tr>\n",
              "    <tr>\n",
              "      <th>2021-05-10</th>\n",
              "      <td>-1.394345</td>\n",
              "      <td>1.057487</td>\n",
              "      <td>1.228240</td>\n",
              "      <td>-0.837828</td>\n",
              "      <td>4</td>\n",
              "    </tr>\n",
              "    <tr>\n",
              "      <th>2021-05-11</th>\n",
              "      <td>1.897772</td>\n",
              "      <td>-1.219331</td>\n",
              "      <td>-0.489267</td>\n",
              "      <td>0.177021</td>\n",
              "      <td>5</td>\n",
              "    </tr>\n",
              "    <tr>\n",
              "      <th>2021-05-12</th>\n",
              "      <td>-0.331907</td>\n",
              "      <td>0.317568</td>\n",
              "      <td>0.326509</td>\n",
              "      <td>0.052806</td>\n",
              "      <td>6</td>\n",
              "    </tr>\n",
              "  </tbody>\n",
              "</table>\n",
              "</div>"
            ],
            "text/plain": [
              "                   A         B         C         D  F\n",
              "2021-05-07 -0.400063  1.484314 -0.181211  1.407233  1\n",
              "2021-05-08  0.912445  0.742802  0.009462 -0.181393  2\n",
              "2021-05-09 -0.338521 -0.083245  1.037855  1.887871  3\n",
              "2021-05-10 -1.394345  1.057487  1.228240 -0.837828  4\n",
              "2021-05-11  1.897772 -1.219331 -0.489267  0.177021  5\n",
              "2021-05-12 -0.331907  0.317568  0.326509  0.052806  6"
            ]
          },
          "metadata": {
            "tags": []
          },
          "execution_count": 28
        }
      ]
    },
    {
      "cell_type": "code",
      "metadata": {
        "colab": {
          "base_uri": "https://localhost:8080/",
          "height": 235
        },
        "id": "lVKtH17EpWx5",
        "outputId": "196d3a24-b622-45ed-b7a8-054f1cd7f4ba"
      },
      "source": [
        "df.apply(np.cumsum,axis=1)"
      ],
      "execution_count": 29,
      "outputs": [
        {
          "output_type": "execute_result",
          "data": {
            "text/html": [
              "<div>\n",
              "<style scoped>\n",
              "    .dataframe tbody tr th:only-of-type {\n",
              "        vertical-align: middle;\n",
              "    }\n",
              "\n",
              "    .dataframe tbody tr th {\n",
              "        vertical-align: top;\n",
              "    }\n",
              "\n",
              "    .dataframe thead th {\n",
              "        text-align: right;\n",
              "    }\n",
              "</style>\n",
              "<table border=\"1\" class=\"dataframe\">\n",
              "  <thead>\n",
              "    <tr style=\"text-align: right;\">\n",
              "      <th></th>\n",
              "      <th>A</th>\n",
              "      <th>B</th>\n",
              "      <th>C</th>\n",
              "      <th>D</th>\n",
              "      <th>F</th>\n",
              "    </tr>\n",
              "  </thead>\n",
              "  <tbody>\n",
              "    <tr>\n",
              "      <th>2021-05-07</th>\n",
              "      <td>-0.400063</td>\n",
              "      <td>1.084251</td>\n",
              "      <td>0.903040</td>\n",
              "      <td>2.310273</td>\n",
              "      <td>3.310273</td>\n",
              "    </tr>\n",
              "    <tr>\n",
              "      <th>2021-05-08</th>\n",
              "      <td>0.912445</td>\n",
              "      <td>1.655247</td>\n",
              "      <td>1.664709</td>\n",
              "      <td>1.483316</td>\n",
              "      <td>3.483316</td>\n",
              "    </tr>\n",
              "    <tr>\n",
              "      <th>2021-05-09</th>\n",
              "      <td>-0.338521</td>\n",
              "      <td>-0.421765</td>\n",
              "      <td>0.616090</td>\n",
              "      <td>2.503960</td>\n",
              "      <td>5.503960</td>\n",
              "    </tr>\n",
              "    <tr>\n",
              "      <th>2021-05-10</th>\n",
              "      <td>-1.394345</td>\n",
              "      <td>-0.336858</td>\n",
              "      <td>0.891383</td>\n",
              "      <td>0.053555</td>\n",
              "      <td>4.053555</td>\n",
              "    </tr>\n",
              "    <tr>\n",
              "      <th>2021-05-11</th>\n",
              "      <td>1.897772</td>\n",
              "      <td>0.678441</td>\n",
              "      <td>0.189174</td>\n",
              "      <td>0.366194</td>\n",
              "      <td>5.366194</td>\n",
              "    </tr>\n",
              "    <tr>\n",
              "      <th>2021-05-12</th>\n",
              "      <td>-0.331907</td>\n",
              "      <td>-0.014339</td>\n",
              "      <td>0.312170</td>\n",
              "      <td>0.364976</td>\n",
              "      <td>6.364976</td>\n",
              "    </tr>\n",
              "  </tbody>\n",
              "</table>\n",
              "</div>"
            ],
            "text/plain": [
              "                   A         B         C         D         F\n",
              "2021-05-07 -0.400063  1.084251  0.903040  2.310273  3.310273\n",
              "2021-05-08  0.912445  1.655247  1.664709  1.483316  3.483316\n",
              "2021-05-09 -0.338521 -0.421765  0.616090  2.503960  5.503960\n",
              "2021-05-10 -1.394345 -0.336858  0.891383  0.053555  4.053555\n",
              "2021-05-11  1.897772  0.678441  0.189174  0.366194  5.366194\n",
              "2021-05-12 -0.331907 -0.014339  0.312170  0.364976  6.364976"
            ]
          },
          "metadata": {
            "tags": []
          },
          "execution_count": 29
        }
      ]
    },
    {
      "cell_type": "code",
      "metadata": {
        "colab": {
          "base_uri": "https://localhost:8080/"
        },
        "id": "v8Jy2jpvp6kr",
        "outputId": "488a429c-b21c-4484-89dc-f447600f2dda"
      },
      "source": [
        "print(df.apply(lambda x: x.max() - x.min())) # 행에 대해 함수 적용"
      ],
      "execution_count": 30,
      "outputs": [
        {
          "output_type": "stream",
          "text": [
            "A    3.292117\n",
            "B    2.703645\n",
            "C    1.717508\n",
            "D    2.725698\n",
            "F    5.000000\n",
            "dtype: float64\n"
          ],
          "name": "stdout"
        }
      ]
    },
    {
      "cell_type": "code",
      "metadata": {
        "colab": {
          "base_uri": "https://localhost:8080/"
        },
        "id": "BDOlHg5lqOH5",
        "outputId": "43bec792-db8c-4190-b81b-947085f79c44"
      },
      "source": [
        "lambda X : X.max() - X.min()"
      ],
      "execution_count": 31,
      "outputs": [
        {
          "output_type": "execute_result",
          "data": {
            "text/plain": [
              "<function __main__.<lambda>>"
            ]
          },
          "metadata": {
            "tags": []
          },
          "execution_count": 31
        }
      ]
    },
    {
      "cell_type": "code",
      "metadata": {
        "colab": {
          "base_uri": "https://localhost:8080/"
        },
        "id": "06auKagaqXSY",
        "outputId": "e03eb79b-6d7a-48cf-a460-d6648df765db"
      },
      "source": [
        "lambda df : df.max() - df.min()"
      ],
      "execution_count": 33,
      "outputs": [
        {
          "output_type": "execute_result",
          "data": {
            "text/plain": [
              "<function __main__.<lambda>>"
            ]
          },
          "metadata": {
            "tags": []
          },
          "execution_count": 33
        }
      ]
    },
    {
      "cell_type": "code",
      "metadata": {
        "colab": {
          "base_uri": "https://localhost:8080/"
        },
        "id": "Wv8APsibqbwo",
        "outputId": "1adae68a-648a-42b5-8a90-9f708d66865e"
      },
      "source": [
        "df.apply(lambda x: x.max() - x.min())"
      ],
      "execution_count": 34,
      "outputs": [
        {
          "output_type": "execute_result",
          "data": {
            "text/plain": [
              "A    3.292117\n",
              "B    2.703645\n",
              "C    1.717508\n",
              "D    2.725698\n",
              "F    5.000000\n",
              "dtype: float64"
            ]
          },
          "metadata": {
            "tags": []
          },
          "execution_count": 34
        }
      ]
    },
    {
      "cell_type": "code",
      "metadata": {
        "colab": {
          "base_uri": "https://localhost:8080/"
        },
        "id": "_TfPxgc4tR04",
        "outputId": "bce75f67-fcd6-47d2-ae9c-7ed42fec719f"
      },
      "source": [
        "s = pd.Series(np.random.randint(0, 7, size = 10))\n",
        "print(s);print()\n",
        "print(s.value_counts()) # 유일한 값별 개수 세기"
      ],
      "execution_count": 48,
      "outputs": [
        {
          "output_type": "stream",
          "text": [
            "0    6\n",
            "1    5\n",
            "2    6\n",
            "3    6\n",
            "4    1\n",
            "5    5\n",
            "6    3\n",
            "7    2\n",
            "8    1\n",
            "9    4\n",
            "dtype: int64\n",
            "\n",
            "6    3\n",
            "5    2\n",
            "1    2\n",
            "4    1\n",
            "3    1\n",
            "2    1\n",
            "dtype: int64\n"
          ],
          "name": "stdout"
        }
      ]
    },
    {
      "cell_type": "code",
      "metadata": {
        "colab": {
          "base_uri": "https://localhost:8080/"
        },
        "id": "TBCpuoVtuH_o",
        "outputId": "619c0212-f3c8-4205-a3ad-da44336c20b9"
      },
      "source": [
        "s = pd.Series(np.random.randint(1,7, size = 6000))\n",
        "s.value_counts()"
      ],
      "execution_count": 50,
      "outputs": [
        {
          "output_type": "execute_result",
          "data": {
            "text/plain": [
              "3    1010\n",
              "2    1008\n",
              "4    1000\n",
              "1     998\n",
              "6     996\n",
              "5     988\n",
              "dtype: int64"
            ]
          },
          "metadata": {
            "tags": []
          },
          "execution_count": 50
        }
      ]
    },
    {
      "cell_type": "code",
      "metadata": {
        "id": "V1vGf8AFuR0l"
      },
      "source": [
        "df = pd.DataFrame(np.random.randn(10,4))  "
      ],
      "execution_count": 51,
      "outputs": []
    },
    {
      "cell_type": "code",
      "metadata": {
        "colab": {
          "base_uri": "https://localhost:8080/",
          "height": 359
        },
        "id": "Sn9Wb4ijveGW",
        "outputId": "e44e8667-77ae-4d76-97ea-feb215716aca"
      },
      "source": [
        "df"
      ],
      "execution_count": 52,
      "outputs": [
        {
          "output_type": "execute_result",
          "data": {
            "text/html": [
              "<div>\n",
              "<style scoped>\n",
              "    .dataframe tbody tr th:only-of-type {\n",
              "        vertical-align: middle;\n",
              "    }\n",
              "\n",
              "    .dataframe tbody tr th {\n",
              "        vertical-align: top;\n",
              "    }\n",
              "\n",
              "    .dataframe thead th {\n",
              "        text-align: right;\n",
              "    }\n",
              "</style>\n",
              "<table border=\"1\" class=\"dataframe\">\n",
              "  <thead>\n",
              "    <tr style=\"text-align: right;\">\n",
              "      <th></th>\n",
              "      <th>0</th>\n",
              "      <th>1</th>\n",
              "      <th>2</th>\n",
              "      <th>3</th>\n",
              "    </tr>\n",
              "  </thead>\n",
              "  <tbody>\n",
              "    <tr>\n",
              "      <th>0</th>\n",
              "      <td>-0.523558</td>\n",
              "      <td>0.218859</td>\n",
              "      <td>-1.382579</td>\n",
              "      <td>0.678105</td>\n",
              "    </tr>\n",
              "    <tr>\n",
              "      <th>1</th>\n",
              "      <td>1.874234</td>\n",
              "      <td>0.298117</td>\n",
              "      <td>-1.684565</td>\n",
              "      <td>1.267656</td>\n",
              "    </tr>\n",
              "    <tr>\n",
              "      <th>2</th>\n",
              "      <td>-0.174418</td>\n",
              "      <td>-1.144266</td>\n",
              "      <td>-0.680292</td>\n",
              "      <td>-0.358086</td>\n",
              "    </tr>\n",
              "    <tr>\n",
              "      <th>3</th>\n",
              "      <td>-0.503012</td>\n",
              "      <td>1.063845</td>\n",
              "      <td>0.896663</td>\n",
              "      <td>1.279488</td>\n",
              "    </tr>\n",
              "    <tr>\n",
              "      <th>4</th>\n",
              "      <td>-0.026284</td>\n",
              "      <td>-0.677828</td>\n",
              "      <td>0.492000</td>\n",
              "      <td>-1.414656</td>\n",
              "    </tr>\n",
              "    <tr>\n",
              "      <th>5</th>\n",
              "      <td>0.067250</td>\n",
              "      <td>-0.624380</td>\n",
              "      <td>0.617449</td>\n",
              "      <td>0.534373</td>\n",
              "    </tr>\n",
              "    <tr>\n",
              "      <th>6</th>\n",
              "      <td>-1.291327</td>\n",
              "      <td>-1.870633</td>\n",
              "      <td>-0.121270</td>\n",
              "      <td>-0.980187</td>\n",
              "    </tr>\n",
              "    <tr>\n",
              "      <th>7</th>\n",
              "      <td>-0.445217</td>\n",
              "      <td>0.041881</td>\n",
              "      <td>-1.636371</td>\n",
              "      <td>0.115462</td>\n",
              "    </tr>\n",
              "    <tr>\n",
              "      <th>8</th>\n",
              "      <td>-0.353522</td>\n",
              "      <td>-0.839786</td>\n",
              "      <td>0.417259</td>\n",
              "      <td>0.543908</td>\n",
              "    </tr>\n",
              "    <tr>\n",
              "      <th>9</th>\n",
              "      <td>0.747200</td>\n",
              "      <td>0.685569</td>\n",
              "      <td>0.619976</td>\n",
              "      <td>-0.026316</td>\n",
              "    </tr>\n",
              "  </tbody>\n",
              "</table>\n",
              "</div>"
            ],
            "text/plain": [
              "          0         1         2         3\n",
              "0 -0.523558  0.218859 -1.382579  0.678105\n",
              "1  1.874234  0.298117 -1.684565  1.267656\n",
              "2 -0.174418 -1.144266 -0.680292 -0.358086\n",
              "3 -0.503012  1.063845  0.896663  1.279488\n",
              "4 -0.026284 -0.677828  0.492000 -1.414656\n",
              "5  0.067250 -0.624380  0.617449  0.534373\n",
              "6 -1.291327 -1.870633 -0.121270 -0.980187\n",
              "7 -0.445217  0.041881 -1.636371  0.115462\n",
              "8 -0.353522 -0.839786  0.417259  0.543908\n",
              "9  0.747200  0.685569  0.619976 -0.026316"
            ]
          },
          "metadata": {
            "tags": []
          },
          "execution_count": 52
        }
      ]
    },
    {
      "cell_type": "code",
      "metadata": {
        "id": "xKK4aceZvfSm"
      },
      "source": [
        "pieces = [df[:3], df[3:7], df[7:]]"
      ],
      "execution_count": 57,
      "outputs": []
    },
    {
      "cell_type": "code",
      "metadata": {
        "colab": {
          "base_uri": "https://localhost:8080/"
        },
        "id": "AAQRVzQNvrLo",
        "outputId": "8f738d92-d6ea-4d17-d793-338c9940d08e"
      },
      "source": [
        "pieces"
      ],
      "execution_count": 58,
      "outputs": [
        {
          "output_type": "execute_result",
          "data": {
            "text/plain": [
              "[          0         1         2         3\n",
              " 0 -0.523558  0.218859 -1.382579  0.678105\n",
              " 1  1.874234  0.298117 -1.684565  1.267656\n",
              " 2 -0.174418 -1.144266 -0.680292 -0.358086,\n",
              "           0         1         2         3\n",
              " 3 -0.503012  1.063845  0.896663  1.279488\n",
              " 4 -0.026284 -0.677828  0.492000 -1.414656\n",
              " 5  0.067250 -0.624380  0.617449  0.534373\n",
              " 6 -1.291327 -1.870633 -0.121270 -0.980187,\n",
              "           0         1         2         3\n",
              " 7 -0.445217  0.041881 -1.636371  0.115462\n",
              " 8 -0.353522 -0.839786  0.417259  0.543908\n",
              " 9  0.747200  0.685569  0.619976 -0.026316]"
            ]
          },
          "metadata": {
            "tags": []
          },
          "execution_count": 58
        }
      ]
    },
    {
      "cell_type": "code",
      "metadata": {
        "colab": {
          "base_uri": "https://localhost:8080/",
          "height": 359
        },
        "id": "gu_Re-5Wv6E2",
        "outputId": "73a37f78-00b0-4a22-acd2-fe0f65464e95"
      },
      "source": [
        "pd.concat(pieces)"
      ],
      "execution_count": 59,
      "outputs": [
        {
          "output_type": "execute_result",
          "data": {
            "text/html": [
              "<div>\n",
              "<style scoped>\n",
              "    .dataframe tbody tr th:only-of-type {\n",
              "        vertical-align: middle;\n",
              "    }\n",
              "\n",
              "    .dataframe tbody tr th {\n",
              "        vertical-align: top;\n",
              "    }\n",
              "\n",
              "    .dataframe thead th {\n",
              "        text-align: right;\n",
              "    }\n",
              "</style>\n",
              "<table border=\"1\" class=\"dataframe\">\n",
              "  <thead>\n",
              "    <tr style=\"text-align: right;\">\n",
              "      <th></th>\n",
              "      <th>0</th>\n",
              "      <th>1</th>\n",
              "      <th>2</th>\n",
              "      <th>3</th>\n",
              "    </tr>\n",
              "  </thead>\n",
              "  <tbody>\n",
              "    <tr>\n",
              "      <th>0</th>\n",
              "      <td>-0.523558</td>\n",
              "      <td>0.218859</td>\n",
              "      <td>-1.382579</td>\n",
              "      <td>0.678105</td>\n",
              "    </tr>\n",
              "    <tr>\n",
              "      <th>1</th>\n",
              "      <td>1.874234</td>\n",
              "      <td>0.298117</td>\n",
              "      <td>-1.684565</td>\n",
              "      <td>1.267656</td>\n",
              "    </tr>\n",
              "    <tr>\n",
              "      <th>2</th>\n",
              "      <td>-0.174418</td>\n",
              "      <td>-1.144266</td>\n",
              "      <td>-0.680292</td>\n",
              "      <td>-0.358086</td>\n",
              "    </tr>\n",
              "    <tr>\n",
              "      <th>3</th>\n",
              "      <td>-0.503012</td>\n",
              "      <td>1.063845</td>\n",
              "      <td>0.896663</td>\n",
              "      <td>1.279488</td>\n",
              "    </tr>\n",
              "    <tr>\n",
              "      <th>4</th>\n",
              "      <td>-0.026284</td>\n",
              "      <td>-0.677828</td>\n",
              "      <td>0.492000</td>\n",
              "      <td>-1.414656</td>\n",
              "    </tr>\n",
              "    <tr>\n",
              "      <th>5</th>\n",
              "      <td>0.067250</td>\n",
              "      <td>-0.624380</td>\n",
              "      <td>0.617449</td>\n",
              "      <td>0.534373</td>\n",
              "    </tr>\n",
              "    <tr>\n",
              "      <th>6</th>\n",
              "      <td>-1.291327</td>\n",
              "      <td>-1.870633</td>\n",
              "      <td>-0.121270</td>\n",
              "      <td>-0.980187</td>\n",
              "    </tr>\n",
              "    <tr>\n",
              "      <th>7</th>\n",
              "      <td>-0.445217</td>\n",
              "      <td>0.041881</td>\n",
              "      <td>-1.636371</td>\n",
              "      <td>0.115462</td>\n",
              "    </tr>\n",
              "    <tr>\n",
              "      <th>8</th>\n",
              "      <td>-0.353522</td>\n",
              "      <td>-0.839786</td>\n",
              "      <td>0.417259</td>\n",
              "      <td>0.543908</td>\n",
              "    </tr>\n",
              "    <tr>\n",
              "      <th>9</th>\n",
              "      <td>0.747200</td>\n",
              "      <td>0.685569</td>\n",
              "      <td>0.619976</td>\n",
              "      <td>-0.026316</td>\n",
              "    </tr>\n",
              "  </tbody>\n",
              "</table>\n",
              "</div>"
            ],
            "text/plain": [
              "          0         1         2         3\n",
              "0 -0.523558  0.218859 -1.382579  0.678105\n",
              "1  1.874234  0.298117 -1.684565  1.267656\n",
              "2 -0.174418 -1.144266 -0.680292 -0.358086\n",
              "3 -0.503012  1.063845  0.896663  1.279488\n",
              "4 -0.026284 -0.677828  0.492000 -1.414656\n",
              "5  0.067250 -0.624380  0.617449  0.534373\n",
              "6 -1.291327 -1.870633 -0.121270 -0.980187\n",
              "7 -0.445217  0.041881 -1.636371  0.115462\n",
              "8 -0.353522 -0.839786  0.417259  0.543908\n",
              "9  0.747200  0.685569  0.619976 -0.026316"
            ]
          },
          "metadata": {
            "tags": []
          },
          "execution_count": 59
        }
      ]
    },
    {
      "cell_type": "code",
      "metadata": {
        "id": "gmMv2sJBwDMX"
      },
      "source": [
        "left = pd.DataFrame(\n",
        "    {\n",
        "        'a':['foo', 'foo'], \n",
        "        'lval': [1, 2]\n",
        "     }\n",
        ")\n",
        "right = pd.DataFrame({'a':['foo', 'foo'], 'rval': [4, 5]})"
      ],
      "execution_count": 66,
      "outputs": []
    },
    {
      "cell_type": "code",
      "metadata": {
        "colab": {
          "base_uri": "https://localhost:8080/",
          "height": 111
        },
        "id": "NgkmWTeZwn73",
        "outputId": "71e729c5-2240-4f62-df6d-996b20893733"
      },
      "source": [
        "left"
      ],
      "execution_count": 67,
      "outputs": [
        {
          "output_type": "execute_result",
          "data": {
            "text/html": [
              "<div>\n",
              "<style scoped>\n",
              "    .dataframe tbody tr th:only-of-type {\n",
              "        vertical-align: middle;\n",
              "    }\n",
              "\n",
              "    .dataframe tbody tr th {\n",
              "        vertical-align: top;\n",
              "    }\n",
              "\n",
              "    .dataframe thead th {\n",
              "        text-align: right;\n",
              "    }\n",
              "</style>\n",
              "<table border=\"1\" class=\"dataframe\">\n",
              "  <thead>\n",
              "    <tr style=\"text-align: right;\">\n",
              "      <th></th>\n",
              "      <th>a</th>\n",
              "      <th>lval</th>\n",
              "    </tr>\n",
              "  </thead>\n",
              "  <tbody>\n",
              "    <tr>\n",
              "      <th>0</th>\n",
              "      <td>foo</td>\n",
              "      <td>1</td>\n",
              "    </tr>\n",
              "    <tr>\n",
              "      <th>1</th>\n",
              "      <td>foo</td>\n",
              "      <td>2</td>\n",
              "    </tr>\n",
              "  </tbody>\n",
              "</table>\n",
              "</div>"
            ],
            "text/plain": [
              "     a  lval\n",
              "0  foo     1\n",
              "1  foo     2"
            ]
          },
          "metadata": {
            "tags": []
          },
          "execution_count": 67
        }
      ]
    },
    {
      "cell_type": "code",
      "metadata": {
        "colab": {
          "base_uri": "https://localhost:8080/"
        },
        "id": "LbMEKS0twpWH",
        "outputId": "84316b1f-177e-44fa-a207-c2ec4dd3c1f5"
      },
      "source": [
        "left,right"
      ],
      "execution_count": 68,
      "outputs": [
        {
          "output_type": "execute_result",
          "data": {
            "text/plain": [
              "(     a  lval\n",
              " 0  foo     1\n",
              " 1  foo     2,      a  rval\n",
              " 0  foo     4\n",
              " 1  foo     5)"
            ]
          },
          "metadata": {
            "tags": []
          },
          "execution_count": 68
        }
      ]
    },
    {
      "cell_type": "code",
      "metadata": {
        "colab": {
          "base_uri": "https://localhost:8080/",
          "height": 111
        },
        "id": "MX2WKCDwwrEX",
        "outputId": "46743a9f-def2-4b7e-94e5-9b994f1177c9"
      },
      "source": [
        "right"
      ],
      "execution_count": 69,
      "outputs": [
        {
          "output_type": "execute_result",
          "data": {
            "text/html": [
              "<div>\n",
              "<style scoped>\n",
              "    .dataframe tbody tr th:only-of-type {\n",
              "        vertical-align: middle;\n",
              "    }\n",
              "\n",
              "    .dataframe tbody tr th {\n",
              "        vertical-align: top;\n",
              "    }\n",
              "\n",
              "    .dataframe thead th {\n",
              "        text-align: right;\n",
              "    }\n",
              "</style>\n",
              "<table border=\"1\" class=\"dataframe\">\n",
              "  <thead>\n",
              "    <tr style=\"text-align: right;\">\n",
              "      <th></th>\n",
              "      <th>a</th>\n",
              "      <th>rval</th>\n",
              "    </tr>\n",
              "  </thead>\n",
              "  <tbody>\n",
              "    <tr>\n",
              "      <th>0</th>\n",
              "      <td>foo</td>\n",
              "      <td>4</td>\n",
              "    </tr>\n",
              "    <tr>\n",
              "      <th>1</th>\n",
              "      <td>foo</td>\n",
              "      <td>5</td>\n",
              "    </tr>\n",
              "  </tbody>\n",
              "</table>\n",
              "</div>"
            ],
            "text/plain": [
              "     a  rval\n",
              "0  foo     4\n",
              "1  foo     5"
            ]
          },
          "metadata": {
            "tags": []
          },
          "execution_count": 69
        }
      ]
    },
    {
      "cell_type": "code",
      "metadata": {
        "colab": {
          "base_uri": "https://localhost:8080/",
          "height": 173
        },
        "id": "QqUi9n2-wwUn",
        "outputId": "af598784-4504-4cfc-f2a9-a4cf857f2235"
      },
      "source": [
        "pd.merge(left, right, on = 'a')"
      ],
      "execution_count": 70,
      "outputs": [
        {
          "output_type": "execute_result",
          "data": {
            "text/html": [
              "<div>\n",
              "<style scoped>\n",
              "    .dataframe tbody tr th:only-of-type {\n",
              "        vertical-align: middle;\n",
              "    }\n",
              "\n",
              "    .dataframe tbody tr th {\n",
              "        vertical-align: top;\n",
              "    }\n",
              "\n",
              "    .dataframe thead th {\n",
              "        text-align: right;\n",
              "    }\n",
              "</style>\n",
              "<table border=\"1\" class=\"dataframe\">\n",
              "  <thead>\n",
              "    <tr style=\"text-align: right;\">\n",
              "      <th></th>\n",
              "      <th>a</th>\n",
              "      <th>lval</th>\n",
              "      <th>rval</th>\n",
              "    </tr>\n",
              "  </thead>\n",
              "  <tbody>\n",
              "    <tr>\n",
              "      <th>0</th>\n",
              "      <td>foo</td>\n",
              "      <td>1</td>\n",
              "      <td>4</td>\n",
              "    </tr>\n",
              "    <tr>\n",
              "      <th>1</th>\n",
              "      <td>foo</td>\n",
              "      <td>1</td>\n",
              "      <td>5</td>\n",
              "    </tr>\n",
              "    <tr>\n",
              "      <th>2</th>\n",
              "      <td>foo</td>\n",
              "      <td>2</td>\n",
              "      <td>4</td>\n",
              "    </tr>\n",
              "    <tr>\n",
              "      <th>3</th>\n",
              "      <td>foo</td>\n",
              "      <td>2</td>\n",
              "      <td>5</td>\n",
              "    </tr>\n",
              "  </tbody>\n",
              "</table>\n",
              "</div>"
            ],
            "text/plain": [
              "     a  lval  rval\n",
              "0  foo     1     4\n",
              "1  foo     1     5\n",
              "2  foo     2     4\n",
              "3  foo     2     5"
            ]
          },
          "metadata": {
            "tags": []
          },
          "execution_count": 70
        }
      ]
    },
    {
      "cell_type": "code",
      "metadata": {
        "id": "X9bv4XHZxA4n"
      },
      "source": [
        "df = pd.DataFrame(\n",
        "    {\n",
        "        'A' : ['foo', 'bar', 'foo', 'bar', 'foo', 'bar', 'foo', 'bar'],\n",
        "        'B' : ['one', 'one', 'two', 'three', 'two', 'two', 'one', 'three'],\n",
        "        'C' : np.random.randn(8),\n",
        "        'D' : np.random.randn(8)\n",
        "    }\n",
        ")"
      ],
      "execution_count": 72,
      "outputs": []
    },
    {
      "cell_type": "code",
      "metadata": {
        "colab": {
          "base_uri": "https://localhost:8080/",
          "height": 297
        },
        "id": "a1ESWP6Wxnk2",
        "outputId": "36d815a3-7f70-4090-e25b-b67b517726e9"
      },
      "source": [
        "df"
      ],
      "execution_count": 73,
      "outputs": [
        {
          "output_type": "execute_result",
          "data": {
            "text/html": [
              "<div>\n",
              "<style scoped>\n",
              "    .dataframe tbody tr th:only-of-type {\n",
              "        vertical-align: middle;\n",
              "    }\n",
              "\n",
              "    .dataframe tbody tr th {\n",
              "        vertical-align: top;\n",
              "    }\n",
              "\n",
              "    .dataframe thead th {\n",
              "        text-align: right;\n",
              "    }\n",
              "</style>\n",
              "<table border=\"1\" class=\"dataframe\">\n",
              "  <thead>\n",
              "    <tr style=\"text-align: right;\">\n",
              "      <th></th>\n",
              "      <th>A</th>\n",
              "      <th>B</th>\n",
              "      <th>C</th>\n",
              "      <th>D</th>\n",
              "    </tr>\n",
              "  </thead>\n",
              "  <tbody>\n",
              "    <tr>\n",
              "      <th>0</th>\n",
              "      <td>foo</td>\n",
              "      <td>one</td>\n",
              "      <td>0.209815</td>\n",
              "      <td>0.266780</td>\n",
              "    </tr>\n",
              "    <tr>\n",
              "      <th>1</th>\n",
              "      <td>bar</td>\n",
              "      <td>one</td>\n",
              "      <td>-0.763448</td>\n",
              "      <td>1.228908</td>\n",
              "    </tr>\n",
              "    <tr>\n",
              "      <th>2</th>\n",
              "      <td>foo</td>\n",
              "      <td>two</td>\n",
              "      <td>-0.725868</td>\n",
              "      <td>-0.442986</td>\n",
              "    </tr>\n",
              "    <tr>\n",
              "      <th>3</th>\n",
              "      <td>bar</td>\n",
              "      <td>three</td>\n",
              "      <td>-0.963164</td>\n",
              "      <td>-0.298762</td>\n",
              "    </tr>\n",
              "    <tr>\n",
              "      <th>4</th>\n",
              "      <td>foo</td>\n",
              "      <td>two</td>\n",
              "      <td>-1.466465</td>\n",
              "      <td>-0.346661</td>\n",
              "    </tr>\n",
              "    <tr>\n",
              "      <th>5</th>\n",
              "      <td>bar</td>\n",
              "      <td>two</td>\n",
              "      <td>-0.110534</td>\n",
              "      <td>0.308004</td>\n",
              "    </tr>\n",
              "    <tr>\n",
              "      <th>6</th>\n",
              "      <td>foo</td>\n",
              "      <td>one</td>\n",
              "      <td>0.223323</td>\n",
              "      <td>0.181774</td>\n",
              "    </tr>\n",
              "    <tr>\n",
              "      <th>7</th>\n",
              "      <td>bar</td>\n",
              "      <td>three</td>\n",
              "      <td>0.504988</td>\n",
              "      <td>0.065644</td>\n",
              "    </tr>\n",
              "  </tbody>\n",
              "</table>\n",
              "</div>"
            ],
            "text/plain": [
              "     A      B         C         D\n",
              "0  foo    one  0.209815  0.266780\n",
              "1  bar    one -0.763448  1.228908\n",
              "2  foo    two -0.725868 -0.442986\n",
              "3  bar  three -0.963164 -0.298762\n",
              "4  foo    two -1.466465 -0.346661\n",
              "5  bar    two -0.110534  0.308004\n",
              "6  foo    one  0.223323  0.181774\n",
              "7  bar  three  0.504988  0.065644"
            ]
          },
          "metadata": {
            "tags": []
          },
          "execution_count": 73
        }
      ]
    },
    {
      "cell_type": "code",
      "metadata": {
        "colab": {
          "base_uri": "https://localhost:8080/",
          "height": 142
        },
        "id": "RwdplDCuy5Bm",
        "outputId": "bc71a17c-8419-47ce-ac1c-f129a0ec09c3"
      },
      "source": [
        "a = df.groupby('A').sum()\n",
        "a"
      ],
      "execution_count": 83,
      "outputs": [
        {
          "output_type": "execute_result",
          "data": {
            "text/html": [
              "<div>\n",
              "<style scoped>\n",
              "    .dataframe tbody tr th:only-of-type {\n",
              "        vertical-align: middle;\n",
              "    }\n",
              "\n",
              "    .dataframe tbody tr th {\n",
              "        vertical-align: top;\n",
              "    }\n",
              "\n",
              "    .dataframe thead th {\n",
              "        text-align: right;\n",
              "    }\n",
              "</style>\n",
              "<table border=\"1\" class=\"dataframe\">\n",
              "  <thead>\n",
              "    <tr style=\"text-align: right;\">\n",
              "      <th></th>\n",
              "      <th>C</th>\n",
              "      <th>D</th>\n",
              "    </tr>\n",
              "    <tr>\n",
              "      <th>A</th>\n",
              "      <th></th>\n",
              "      <th></th>\n",
              "    </tr>\n",
              "  </thead>\n",
              "  <tbody>\n",
              "    <tr>\n",
              "      <th>bar</th>\n",
              "      <td>-1.332158</td>\n",
              "      <td>1.303793</td>\n",
              "    </tr>\n",
              "    <tr>\n",
              "      <th>foo</th>\n",
              "      <td>-1.759195</td>\n",
              "      <td>-0.341093</td>\n",
              "    </tr>\n",
              "  </tbody>\n",
              "</table>\n",
              "</div>"
            ],
            "text/plain": [
              "            C         D\n",
              "A                      \n",
              "bar -1.332158  1.303793\n",
              "foo -1.759195 -0.341093"
            ]
          },
          "metadata": {
            "tags": []
          },
          "execution_count": 83
        }
      ]
    },
    {
      "cell_type": "code",
      "metadata": {
        "colab": {
          "base_uri": "https://localhost:8080/",
          "height": 235
        },
        "id": "XBVnhDK30nLF",
        "outputId": "f77f00f3-9850-4d08-e86b-a0f36f715f32"
      },
      "source": [
        "a = df.groupby(['A','B']).sum()\n",
        "a"
      ],
      "execution_count": 88,
      "outputs": [
        {
          "output_type": "execute_result",
          "data": {
            "text/html": [
              "<div>\n",
              "<style scoped>\n",
              "    .dataframe tbody tr th:only-of-type {\n",
              "        vertical-align: middle;\n",
              "    }\n",
              "\n",
              "    .dataframe tbody tr th {\n",
              "        vertical-align: top;\n",
              "    }\n",
              "\n",
              "    .dataframe thead th {\n",
              "        text-align: right;\n",
              "    }\n",
              "</style>\n",
              "<table border=\"1\" class=\"dataframe\">\n",
              "  <thead>\n",
              "    <tr style=\"text-align: right;\">\n",
              "      <th></th>\n",
              "      <th></th>\n",
              "      <th>C</th>\n",
              "      <th>D</th>\n",
              "    </tr>\n",
              "    <tr>\n",
              "      <th>A</th>\n",
              "      <th>B</th>\n",
              "      <th></th>\n",
              "      <th></th>\n",
              "    </tr>\n",
              "  </thead>\n",
              "  <tbody>\n",
              "    <tr>\n",
              "      <th rowspan=\"3\" valign=\"top\">bar</th>\n",
              "      <th>one</th>\n",
              "      <td>-0.763448</td>\n",
              "      <td>1.228908</td>\n",
              "    </tr>\n",
              "    <tr>\n",
              "      <th>three</th>\n",
              "      <td>-0.458176</td>\n",
              "      <td>-0.233118</td>\n",
              "    </tr>\n",
              "    <tr>\n",
              "      <th>two</th>\n",
              "      <td>-0.110534</td>\n",
              "      <td>0.308004</td>\n",
              "    </tr>\n",
              "    <tr>\n",
              "      <th rowspan=\"2\" valign=\"top\">foo</th>\n",
              "      <th>one</th>\n",
              "      <td>0.433139</td>\n",
              "      <td>0.448554</td>\n",
              "    </tr>\n",
              "    <tr>\n",
              "      <th>two</th>\n",
              "      <td>-2.192333</td>\n",
              "      <td>-0.789647</td>\n",
              "    </tr>\n",
              "  </tbody>\n",
              "</table>\n",
              "</div>"
            ],
            "text/plain": [
              "                  C         D\n",
              "A   B                        \n",
              "bar one   -0.763448  1.228908\n",
              "    three -0.458176 -0.233118\n",
              "    two   -0.110534  0.308004\n",
              "foo one    0.433139  0.448554\n",
              "    two   -2.192333 -0.789647"
            ]
          },
          "metadata": {
            "tags": []
          },
          "execution_count": 88
        }
      ]
    },
    {
      "cell_type": "code",
      "metadata": {
        "colab": {
          "base_uri": "https://localhost:8080/"
        },
        "id": "pGL8bce3zIw1",
        "outputId": "036d0233-7345-4e8d-9ce5-7f94dcc90458"
      },
      "source": [
        "x = [1,2,3]\n",
        "y = [4,5,6]\n",
        "zipped = zip(x,y)\n",
        "list(zipped)"
      ],
      "execution_count": 77,
      "outputs": [
        {
          "output_type": "execute_result",
          "data": {
            "text/plain": [
              "[(1, 4), (2, 5), (3, 6)]"
            ]
          },
          "metadata": {
            "tags": []
          },
          "execution_count": 77
        }
      ]
    },
    {
      "cell_type": "code",
      "metadata": {
        "id": "54aoWJLc0ShV"
      },
      "source": [
        "x2, y2 = zip(*zip(x,y))"
      ],
      "execution_count": 78,
      "outputs": []
    },
    {
      "cell_type": "code",
      "metadata": {
        "colab": {
          "base_uri": "https://localhost:8080/"
        },
        "id": "4wjZpSNj0fjV",
        "outputId": "aa5ce487-4d89-41fe-ea8e-a2b53e4b4db8"
      },
      "source": [
        "x2"
      ],
      "execution_count": 79,
      "outputs": [
        {
          "output_type": "execute_result",
          "data": {
            "text/plain": [
              "(1, 2, 3)"
            ]
          },
          "metadata": {
            "tags": []
          },
          "execution_count": 79
        }
      ]
    },
    {
      "cell_type": "code",
      "metadata": {
        "colab": {
          "base_uri": "https://localhost:8080/"
        },
        "id": "hXuroYuZ0g01",
        "outputId": "95f2eaf9-9dee-40ea-bab9-61f1126aadc3"
      },
      "source": [
        "y2"
      ],
      "execution_count": 80,
      "outputs": [
        {
          "output_type": "execute_result",
          "data": {
            "text/plain": [
              "(4, 5, 6)"
            ]
          },
          "metadata": {
            "tags": []
          },
          "execution_count": 80
        }
      ]
    },
    {
      "cell_type": "code",
      "metadata": {
        "colab": {
          "base_uri": "https://localhost:8080/"
        },
        "id": "YLnngLqs0hfV",
        "outputId": "7dc234be-c2c7-4a18-d3bc-4d45a44a5d95"
      },
      "source": [
        "x"
      ],
      "execution_count": 81,
      "outputs": [
        {
          "output_type": "execute_result",
          "data": {
            "text/plain": [
              "[1, 2, 3]"
            ]
          },
          "metadata": {
            "tags": []
          },
          "execution_count": 81
        }
      ]
    },
    {
      "cell_type": "code",
      "metadata": {
        "colab": {
          "base_uri": "https://localhost:8080/"
        },
        "id": "d9-AbSOG0jjl",
        "outputId": "4e8fdbc9-c6ee-4ecf-e527-7445c07f837a"
      },
      "source": [
        "list(zipped)"
      ],
      "execution_count": 90,
      "outputs": [
        {
          "output_type": "execute_result",
          "data": {
            "text/plain": [
              "[]"
            ]
          },
          "metadata": {
            "tags": []
          },
          "execution_count": 90
        }
      ]
    },
    {
      "cell_type": "code",
      "metadata": {
        "id": "FmOvGJMM1OSV"
      },
      "source": [
        "df = pd.DataFrame(\n",
        "    {\n",
        "        'A' : ['one', 'one', 'two', 'three'] * 3,\n",
        "        'B' : ['A', 'B', 'C'] * 4,\n",
        "        'C' : ['foo', 'foo', 'foo', 'bar', 'bar', 'bar' ] * 2,\n",
        "        'D' : np.random.randn(12),\n",
        "        'E' : np.random.randn(12)\n",
        "    }\n",
        ")\n"
      ],
      "execution_count": 91,
      "outputs": []
    },
    {
      "cell_type": "code",
      "metadata": {
        "colab": {
          "base_uri": "https://localhost:8080/",
          "height": 421
        },
        "id": "ten0JZOb2G5l",
        "outputId": "a36e816e-02ed-43c2-ed24-ea4f94ecfcae"
      },
      "source": [
        "df"
      ],
      "execution_count": 93,
      "outputs": [
        {
          "output_type": "execute_result",
          "data": {
            "text/html": [
              "<div>\n",
              "<style scoped>\n",
              "    .dataframe tbody tr th:only-of-type {\n",
              "        vertical-align: middle;\n",
              "    }\n",
              "\n",
              "    .dataframe tbody tr th {\n",
              "        vertical-align: top;\n",
              "    }\n",
              "\n",
              "    .dataframe thead th {\n",
              "        text-align: right;\n",
              "    }\n",
              "</style>\n",
              "<table border=\"1\" class=\"dataframe\">\n",
              "  <thead>\n",
              "    <tr style=\"text-align: right;\">\n",
              "      <th></th>\n",
              "      <th>A</th>\n",
              "      <th>B</th>\n",
              "      <th>C</th>\n",
              "      <th>D</th>\n",
              "      <th>E</th>\n",
              "    </tr>\n",
              "  </thead>\n",
              "  <tbody>\n",
              "    <tr>\n",
              "      <th>0</th>\n",
              "      <td>one</td>\n",
              "      <td>A</td>\n",
              "      <td>foo</td>\n",
              "      <td>0.504223</td>\n",
              "      <td>-0.718366</td>\n",
              "    </tr>\n",
              "    <tr>\n",
              "      <th>1</th>\n",
              "      <td>one</td>\n",
              "      <td>B</td>\n",
              "      <td>foo</td>\n",
              "      <td>0.797664</td>\n",
              "      <td>-1.398788</td>\n",
              "    </tr>\n",
              "    <tr>\n",
              "      <th>2</th>\n",
              "      <td>two</td>\n",
              "      <td>C</td>\n",
              "      <td>foo</td>\n",
              "      <td>0.739493</td>\n",
              "      <td>0.514978</td>\n",
              "    </tr>\n",
              "    <tr>\n",
              "      <th>3</th>\n",
              "      <td>three</td>\n",
              "      <td>A</td>\n",
              "      <td>bar</td>\n",
              "      <td>-1.054360</td>\n",
              "      <td>1.200778</td>\n",
              "    </tr>\n",
              "    <tr>\n",
              "      <th>4</th>\n",
              "      <td>one</td>\n",
              "      <td>B</td>\n",
              "      <td>bar</td>\n",
              "      <td>-1.264879</td>\n",
              "      <td>0.578592</td>\n",
              "    </tr>\n",
              "    <tr>\n",
              "      <th>5</th>\n",
              "      <td>one</td>\n",
              "      <td>C</td>\n",
              "      <td>bar</td>\n",
              "      <td>-0.428840</td>\n",
              "      <td>-0.029469</td>\n",
              "    </tr>\n",
              "    <tr>\n",
              "      <th>6</th>\n",
              "      <td>two</td>\n",
              "      <td>A</td>\n",
              "      <td>foo</td>\n",
              "      <td>0.266737</td>\n",
              "      <td>-0.851063</td>\n",
              "    </tr>\n",
              "    <tr>\n",
              "      <th>7</th>\n",
              "      <td>three</td>\n",
              "      <td>B</td>\n",
              "      <td>foo</td>\n",
              "      <td>-0.036502</td>\n",
              "      <td>0.003492</td>\n",
              "    </tr>\n",
              "    <tr>\n",
              "      <th>8</th>\n",
              "      <td>one</td>\n",
              "      <td>C</td>\n",
              "      <td>foo</td>\n",
              "      <td>1.363782</td>\n",
              "      <td>0.398591</td>\n",
              "    </tr>\n",
              "    <tr>\n",
              "      <th>9</th>\n",
              "      <td>one</td>\n",
              "      <td>A</td>\n",
              "      <td>bar</td>\n",
              "      <td>0.527500</td>\n",
              "      <td>-0.129872</td>\n",
              "    </tr>\n",
              "    <tr>\n",
              "      <th>10</th>\n",
              "      <td>two</td>\n",
              "      <td>B</td>\n",
              "      <td>bar</td>\n",
              "      <td>0.009234</td>\n",
              "      <td>0.142998</td>\n",
              "    </tr>\n",
              "    <tr>\n",
              "      <th>11</th>\n",
              "      <td>three</td>\n",
              "      <td>C</td>\n",
              "      <td>bar</td>\n",
              "      <td>0.293021</td>\n",
              "      <td>1.266069</td>\n",
              "    </tr>\n",
              "  </tbody>\n",
              "</table>\n",
              "</div>"
            ],
            "text/plain": [
              "        A  B    C         D         E\n",
              "0     one  A  foo  0.504223 -0.718366\n",
              "1     one  B  foo  0.797664 -1.398788\n",
              "2     two  C  foo  0.739493  0.514978\n",
              "3   three  A  bar -1.054360  1.200778\n",
              "4     one  B  bar -1.264879  0.578592\n",
              "5     one  C  bar -0.428840 -0.029469\n",
              "6     two  A  foo  0.266737 -0.851063\n",
              "7   three  B  foo -0.036502  0.003492\n",
              "8     one  C  foo  1.363782  0.398591\n",
              "9     one  A  bar  0.527500 -0.129872\n",
              "10    two  B  bar  0.009234  0.142998\n",
              "11  three  C  bar  0.293021  1.266069"
            ]
          },
          "metadata": {
            "tags": []
          },
          "execution_count": 93
        }
      ]
    },
    {
      "cell_type": "code",
      "metadata": {
        "colab": {
          "base_uri": "https://localhost:8080/",
          "height": 359
        },
        "id": "CawhmXp02HZl",
        "outputId": "002da6e0-fe65-438e-abc3-bcf16778483b"
      },
      "source": [
        "pd.pivot_table(df, values = 'D', index = ['A', 'B'], columns = ['C'])"
      ],
      "execution_count": 94,
      "outputs": [
        {
          "output_type": "execute_result",
          "data": {
            "text/html": [
              "<div>\n",
              "<style scoped>\n",
              "    .dataframe tbody tr th:only-of-type {\n",
              "        vertical-align: middle;\n",
              "    }\n",
              "\n",
              "    .dataframe tbody tr th {\n",
              "        vertical-align: top;\n",
              "    }\n",
              "\n",
              "    .dataframe thead th {\n",
              "        text-align: right;\n",
              "    }\n",
              "</style>\n",
              "<table border=\"1\" class=\"dataframe\">\n",
              "  <thead>\n",
              "    <tr style=\"text-align: right;\">\n",
              "      <th></th>\n",
              "      <th>C</th>\n",
              "      <th>bar</th>\n",
              "      <th>foo</th>\n",
              "    </tr>\n",
              "    <tr>\n",
              "      <th>A</th>\n",
              "      <th>B</th>\n",
              "      <th></th>\n",
              "      <th></th>\n",
              "    </tr>\n",
              "  </thead>\n",
              "  <tbody>\n",
              "    <tr>\n",
              "      <th rowspan=\"3\" valign=\"top\">one</th>\n",
              "      <th>A</th>\n",
              "      <td>0.527500</td>\n",
              "      <td>0.504223</td>\n",
              "    </tr>\n",
              "    <tr>\n",
              "      <th>B</th>\n",
              "      <td>-1.264879</td>\n",
              "      <td>0.797664</td>\n",
              "    </tr>\n",
              "    <tr>\n",
              "      <th>C</th>\n",
              "      <td>-0.428840</td>\n",
              "      <td>1.363782</td>\n",
              "    </tr>\n",
              "    <tr>\n",
              "      <th rowspan=\"3\" valign=\"top\">three</th>\n",
              "      <th>A</th>\n",
              "      <td>-1.054360</td>\n",
              "      <td>NaN</td>\n",
              "    </tr>\n",
              "    <tr>\n",
              "      <th>B</th>\n",
              "      <td>NaN</td>\n",
              "      <td>-0.036502</td>\n",
              "    </tr>\n",
              "    <tr>\n",
              "      <th>C</th>\n",
              "      <td>0.293021</td>\n",
              "      <td>NaN</td>\n",
              "    </tr>\n",
              "    <tr>\n",
              "      <th rowspan=\"3\" valign=\"top\">two</th>\n",
              "      <th>A</th>\n",
              "      <td>NaN</td>\n",
              "      <td>0.266737</td>\n",
              "    </tr>\n",
              "    <tr>\n",
              "      <th>B</th>\n",
              "      <td>0.009234</td>\n",
              "      <td>NaN</td>\n",
              "    </tr>\n",
              "    <tr>\n",
              "      <th>C</th>\n",
              "      <td>NaN</td>\n",
              "      <td>0.739493</td>\n",
              "    </tr>\n",
              "  </tbody>\n",
              "</table>\n",
              "</div>"
            ],
            "text/plain": [
              "C             bar       foo\n",
              "A     B                    \n",
              "one   A  0.527500  0.504223\n",
              "      B -1.264879  0.797664\n",
              "      C -0.428840  1.363782\n",
              "three A -1.054360       NaN\n",
              "      B       NaN -0.036502\n",
              "      C  0.293021       NaN\n",
              "two   A       NaN  0.266737\n",
              "      B  0.009234       NaN\n",
              "      C       NaN  0.739493"
            ]
          },
          "metadata": {
            "tags": []
          },
          "execution_count": 94
        }
      ]
    },
    {
      "cell_type": "code",
      "metadata": {
        "id": "4inRFA3w2JYk"
      },
      "source": [
        ""
      ],
      "execution_count": null,
      "outputs": []
    }
  ]
}