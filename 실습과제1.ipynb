{
  "nbformat": 4,
  "nbformat_minor": 0,
  "metadata": {
    "colab": {
      "name": "실습과제1.ipynb",
      "provenance": [],
      "collapsed_sections": [],
      "authorship_tag": "ABX9TyMQA01FJusVTNI9KfeTyKD8",
      "include_colab_link": true
    },
    "kernelspec": {
      "name": "python3",
      "display_name": "Python 3"
    }
  },
  "cells": [
    {
      "cell_type": "markdown",
      "metadata": {
        "id": "view-in-github",
        "colab_type": "text"
      },
      "source": [
        "<a href=\"https://colab.research.google.com/github/bmt202121414/bmt_python/blob/main/%EC%8B%A4%EC%8A%B5%EA%B3%BC%EC%A0%9C1.ipynb\" target=\"_parent\"><img src=\"https://colab.research.google.com/assets/colab-badge.svg\" alt=\"Open In Colab\"/></a>"
      ]
    },
    {
      "cell_type": "markdown",
      "metadata": {
        "id": "LBK0W_bSNudT"
      },
      "source": [
        "## 기초문법\r\n"
      ]
    },
    {
      "cell_type": "code",
      "metadata": {
        "id": "AKgS7VJyNHFY"
      },
      "source": [
        "names = ['정밀','폴리','산설','로봇','메카','전기']"
      ],
      "execution_count": 1,
      "outputs": []
    },
    {
      "cell_type": "code",
      "metadata": {
        "colab": {
          "base_uri": "https://localhost:8080/"
        },
        "id": "-7j980C6Oq6T",
        "outputId": "82ccce89-5e11-41f8-c207-0246a6815deb"
      },
      "source": [
        "names"
      ],
      "execution_count": 2,
      "outputs": [
        {
          "output_type": "execute_result",
          "data": {
            "text/plain": [
              "['정밀', '폴리', '산설', '로봇', '메카', '전기']"
            ]
          },
          "metadata": {
            "tags": []
          },
          "execution_count": 2
        }
      ]
    },
    {
      "cell_type": "code",
      "metadata": {
        "colab": {
          "base_uri": "https://localhost:8080/",
          "height": 35
        },
        "id": "WQg6OWoLOyFu",
        "outputId": "340f37ce-f3dc-47a7-fcf3-008ba70aeb42"
      },
      "source": [
        "names[0]"
      ],
      "execution_count": 8,
      "outputs": [
        {
          "output_type": "execute_result",
          "data": {
            "application/vnd.google.colaboratory.intrinsic+json": {
              "type": "string"
            },
            "text/plain": [
              "'정밀'"
            ]
          },
          "metadata": {
            "tags": []
          },
          "execution_count": 8
        }
      ]
    },
    {
      "cell_type": "code",
      "metadata": {
        "colab": {
          "base_uri": "https://localhost:8080/",
          "height": 35
        },
        "id": "4Pbjb8-5O33w",
        "outputId": "700271e6-9339-45e9-a583-cec85c9bdb8f"
      },
      "source": [
        "names[5]"
      ],
      "execution_count": 4,
      "outputs": [
        {
          "output_type": "execute_result",
          "data": {
            "application/vnd.google.colaboratory.intrinsic+json": {
              "type": "string"
            },
            "text/plain": [
              "'전기'"
            ]
          },
          "metadata": {
            "tags": []
          },
          "execution_count": 4
        }
      ]
    },
    {
      "cell_type": "code",
      "metadata": {
        "colab": {
          "base_uri": "https://localhost:8080/"
        },
        "id": "4TSBJqhIPBVd",
        "outputId": "8a06d65a-075a-4a32-ac58-084a266a719c"
      },
      "source": [
        "names"
      ],
      "execution_count": 9,
      "outputs": [
        {
          "output_type": "execute_result",
          "data": {
            "text/plain": [
              "['정밀', '폴리', '산설', '로봇', '메카', '전기']"
            ]
          },
          "metadata": {
            "tags": []
          },
          "execution_count": 9
        }
      ]
    },
    {
      "cell_type": "code",
      "metadata": {
        "id": "mXH122S2QJ8f"
      },
      "source": [
        "names.append('부산기계')"
      ],
      "execution_count": 11,
      "outputs": []
    },
    {
      "cell_type": "code",
      "metadata": {
        "colab": {
          "base_uri": "https://localhost:8080/"
        },
        "id": "HFMaZvJoQYtD",
        "outputId": "f5c66120-fa36-410f-b574-c0523623270a"
      },
      "source": [
        "names"
      ],
      "execution_count": 12,
      "outputs": [
        {
          "output_type": "execute_result",
          "data": {
            "text/plain": [
              "['정밀', '폴리', '산설', '로봇', '메카', '전기', '부산기계']"
            ]
          },
          "metadata": {
            "tags": []
          },
          "execution_count": 12
        }
      ]
    },
    {
      "cell_type": "code",
      "metadata": {
        "colab": {
          "base_uri": "https://localhost:8080/"
        },
        "id": "EdhrfA3mQfX4",
        "outputId": "6ea1da17-36bb-47b1-a8db-86a242d077e4"
      },
      "source": [
        "for name in names:\r\n",
        "  if len(name) > 2:\r\n",
        "   print(name, '공업고등학교','전기과','2학년','14반','홍길동')\r\n",
        "   print(name+'공업고등학교'+'전기과'+'2학년'+'14반'+'홍길동')\r\n",
        "  else:\r\n",
        "     print(name, '전공')"
      ],
      "execution_count": 22,
      "outputs": [
        {
          "output_type": "stream",
          "text": [
            "정밀 전공\n",
            "폴리 전공\n",
            "산설 전공\n",
            "로봇 전공\n",
            "메카 전공\n",
            "전기 전공\n",
            "부산기계 공업고등학교 전기과 2학년 14반 홍길동\n",
            "부산기계공업고등학교전기과2학년14반홍길동\n"
          ],
          "name": "stdout"
        }
      ]
    },
    {
      "cell_type": "code",
      "metadata": {
        "colab": {
          "base_uri": "https://localhost:8080/"
        },
        "id": "SNsAxQN0Q8VM",
        "outputId": "ce6afa35-9140-4f91-e7f5-63ea0a70c1f1"
      },
      "source": [
        "# 출력 print함수 공부\r\n",
        "\r\n",
        "print(20**3)"
      ],
      "execution_count": 23,
      "outputs": [
        {
          "output_type": "stream",
          "text": [
            "8000\n"
          ],
          "name": "stdout"
        }
      ]
    },
    {
      "cell_type": "code",
      "metadata": {
        "colab": {
          "base_uri": "https://localhost:8080/"
        },
        "id": "CrLmSKItXHqQ",
        "outputId": "90bad163-f89f-4cda-88ea-e1ef9ee08077"
      },
      "source": [
        "print(\"안녕하세요 전기과 여러분\")"
      ],
      "execution_count": 24,
      "outputs": [
        {
          "output_type": "stream",
          "text": [
            "안녕하세요 전기과 여러분\n"
          ],
          "name": "stdout"
        }
      ]
    },
    {
      "cell_type": "code",
      "metadata": {
        "colab": {
          "base_uri": "https://localhost:8080/"
        },
        "id": "Q44_S8ITXbKC",
        "outputId": "ea081926-e775-4e34-d2cf-8ba7dcb5acdc"
      },
      "source": [
        "school = '부산기계공고' # 문자열 변수 선언 및 초기화 \r\n",
        "print(school)"
      ],
      "execution_count": 28,
      "outputs": [
        {
          "output_type": "stream",
          "text": [
            "부산기계공고\n"
          ],
          "name": "stdout"
        }
      ]
    },
    {
      "cell_type": "code",
      "metadata": {
        "colab": {
          "base_uri": "https://localhost:8080/"
        },
        "id": "LU79oxF6XwTW",
        "outputId": "3d2d8c10-4639-4530-ba97-8a0d4247182c"
      },
      "source": [
        "a = 1024 \r\n",
        "print(a)"
      ],
      "execution_count": 29,
      "outputs": [
        {
          "output_type": "stream",
          "text": [
            "1024\n"
          ],
          "name": "stdout"
        }
      ]
    },
    {
      "cell_type": "code",
      "metadata": {
        "colab": {
          "base_uri": "https://localhost:8080/"
        },
        "id": "AAZksLIqX89R",
        "outputId": "620a72dd-63f2-487f-9a8d-a4118eb69ee0"
      },
      "source": [
        "name = '전기과'\r\n",
        "print(name,'화이팅~!!!')"
      ],
      "execution_count": 34,
      "outputs": [
        {
          "output_type": "stream",
          "text": [
            "전기과 화이팅~!!!\n"
          ],
          "name": "stdout"
        }
      ]
    },
    {
      "cell_type": "code",
      "metadata": {
        "colab": {
          "base_uri": "https://localhost:8080/"
        },
        "id": "YHvg75AsYFgN",
        "outputId": "ef020ae3-f6f9-45c6-e125-35724f0ea0cf"
      },
      "source": [
        "print(f'{school} {name} 화이팅~~!')"
      ],
      "execution_count": 35,
      "outputs": [
        {
          "output_type": "stream",
          "text": [
            "부산기계공고 전기과 화이팅~~!\n"
          ],
          "name": "stdout"
        }
      ]
    },
    {
      "cell_type": "code",
      "metadata": {
        "colab": {
          "base_uri": "https://localhost:8080/"
        },
        "id": "OHaKGsSsYY4Z",
        "outputId": "7bef9528-ecc6-4044-b673-27722c838cdd"
      },
      "source": [
        "name = input()"
      ],
      "execution_count": 39,
      "outputs": [
        {
          "output_type": "stream",
          "text": [
            "1234\n"
          ],
          "name": "stdout"
        }
      ]
    },
    {
      "cell_type": "code",
      "metadata": {
        "colab": {
          "base_uri": "https://localhost:8080/"
        },
        "id": "2sBa4VnHYxHt",
        "outputId": "d7a505d4-4ae6-4128-c3ff-c567c8c217d4"
      },
      "source": [
        "print(name)"
      ],
      "execution_count": 37,
      "outputs": [
        {
          "output_type": "stream",
          "text": [
            "홍길동\n"
          ],
          "name": "stdout"
        }
      ]
    },
    {
      "cell_type": "code",
      "metadata": {
        "colab": {
          "base_uri": "https://localhost:8080/"
        },
        "id": "4M-Ty_OVY-1k",
        "outputId": "380bd0af-66f6-4974-95cd-5b666ae7e044"
      },
      "source": [
        "print(f'{name}님 반가워요~!')"
      ],
      "execution_count": 38,
      "outputs": [
        {
          "output_type": "stream",
          "text": [
            "홍길동님 반가워요~!\n"
          ],
          "name": "stdout"
        }
      ]
    },
    {
      "cell_type": "code",
      "metadata": {
        "colab": {
          "base_uri": "https://localhost:8080/"
        },
        "id": "W1o1rztlZHQ6",
        "outputId": "f5e915a5-d3a5-498e-d4e7-e11a290ef822"
      },
      "source": [
        "age = int(input('나이 입력 : '))\r\n",
        "\r\n",
        "print(age -1)"
      ],
      "execution_count": 41,
      "outputs": [
        {
          "output_type": "stream",
          "text": [
            "나이 입력 : 18\n",
            "17\n"
          ],
          "name": "stdout"
        }
      ]
    },
    {
      "cell_type": "code",
      "metadata": {
        "id": "XFG18x9tZhYD"
      },
      "source": [
        "key = 'pass'\r\n",
        "\r\n",
        "while True:\r\n",
        "  pwd = input('비밀키를 입력 : ')\r\n",
        "\r\n",
        "  if key == pwd:\r\n",
        "    print('암호가 해제되었습니다.')\r\n",
        "    break\r\n",
        "  else :\r\n",
        "    print('다시 입력 해 주세요.')"
      ],
      "execution_count": null,
      "outputs": []
    },
    {
      "cell_type": "code",
      "metadata": {
        "colab": {
          "base_uri": "https://localhost:8080/"
        },
        "id": "r8dRhaUzai7d",
        "outputId": "54774012-f1b3-484b-f199-fb8c3113df0d"
      },
      "source": [
        "age = input('나이 입력 : ')\r\n",
        "\r\n",
        "age = int(age)\r\n",
        "\r\n",
        "print(age -1)"
      ],
      "execution_count": 45,
      "outputs": [
        {
          "output_type": "stream",
          "text": [
            "나이 입력 : 18\n",
            "17\n"
          ],
          "name": "stdout"
        }
      ]
    },
    {
      "cell_type": "code",
      "metadata": {
        "colab": {
          "base_uri": "https://localhost:8080/"
        },
        "id": "K2Cu3DGGbuWj",
        "outputId": "85e898f8-5865-44b3-eebd-f268fb4005f1"
      },
      "source": [
        "name = input('이름 입력 : ')\r\n",
        "age = int(input('나이입력 : '))\r\n",
        "\r\n",
        "print(f'안녕하세요! {name}님! 당신의 만 나이는 {age-1}입니다.')"
      ],
      "execution_count": 49,
      "outputs": [
        {
          "output_type": "stream",
          "text": [
            "이름 입력 : 장현수\n",
            "나이입력 : 18\n",
            "안녕하세요! 장현수님! 당신의 만 나이는 17입니다.\n"
          ],
          "name": "stdout"
        }
      ]
    },
    {
      "cell_type": "code",
      "metadata": {
        "colab": {
          "base_uri": "https://localhost:8080/"
        },
        "id": "Wva79i8zcJV6",
        "outputId": "990db15a-dc43-4a13-834f-70d71b24250a"
      },
      "source": [
        "print(10 *2)"
      ],
      "execution_count": 50,
      "outputs": [
        {
          "output_type": "stream",
          "text": [
            "20\n"
          ],
          "name": "stdout"
        }
      ]
    },
    {
      "cell_type": "code",
      "metadata": {
        "colab": {
          "base_uri": "https://localhost:8080/"
        },
        "id": "UMrMv9jbcXUx",
        "outputId": "255364a3-dccd-4cb1-ce98-5f60561f610f"
      },
      "source": [
        "10 ** 2"
      ],
      "execution_count": 51,
      "outputs": [
        {
          "output_type": "execute_result",
          "data": {
            "text/plain": [
              "100"
            ]
          },
          "metadata": {
            "tags": []
          },
          "execution_count": 51
        }
      ]
    },
    {
      "cell_type": "code",
      "metadata": {
        "colab": {
          "base_uri": "https://localhost:8080/"
        },
        "id": "yTa9MSKqccVk",
        "outputId": "8f40f2e2-d4c9-41e6-fe22-8643fd54cbe3"
      },
      "source": [
        "10 % 2"
      ],
      "execution_count": 52,
      "outputs": [
        {
          "output_type": "execute_result",
          "data": {
            "text/plain": [
              "0"
            ]
          },
          "metadata": {
            "tags": []
          },
          "execution_count": 52
        }
      ]
    },
    {
      "cell_type": "code",
      "metadata": {
        "colab": {
          "base_uri": "https://localhost:8080/"
        },
        "id": "cUJ1U7amciy3",
        "outputId": "96880c99-d07c-47a6-f7c1-49ebd17f0650"
      },
      "source": [
        "10 % 3"
      ],
      "execution_count": 53,
      "outputs": [
        {
          "output_type": "execute_result",
          "data": {
            "text/plain": [
              "1"
            ]
          },
          "metadata": {
            "tags": []
          },
          "execution_count": 53
        }
      ]
    },
    {
      "cell_type": "code",
      "metadata": {
        "colab": {
          "base_uri": "https://localhost:8080/"
        },
        "id": "2vJpmXXBcwRk",
        "outputId": "cf9a82dd-87d4-415b-bc1d-918b7ba0aa35"
      },
      "source": [
        "7 / 2"
      ],
      "execution_count": 54,
      "outputs": [
        {
          "output_type": "execute_result",
          "data": {
            "text/plain": [
              "3.5"
            ]
          },
          "metadata": {
            "tags": []
          },
          "execution_count": 54
        }
      ]
    },
    {
      "cell_type": "code",
      "metadata": {
        "colab": {
          "base_uri": "https://localhost:8080/"
        },
        "id": "kRDg5pJVcybw",
        "outputId": "b0a0315e-33f6-47d2-f6a2-1ab99d0db2aa"
      },
      "source": [
        "10 //3"
      ],
      "execution_count": 55,
      "outputs": [
        {
          "output_type": "execute_result",
          "data": {
            "text/plain": [
              "3"
            ]
          },
          "metadata": {
            "tags": []
          },
          "execution_count": 55
        }
      ]
    },
    {
      "cell_type": "code",
      "metadata": {
        "colab": {
          "base_uri": "https://localhost:8080/"
        },
        "id": "LYMd9oS-c23f",
        "outputId": "5f002370-fb80-4852-f63f-e4814a58d9a1"
      },
      "source": [
        "10 /3"
      ],
      "execution_count": 56,
      "outputs": [
        {
          "output_type": "execute_result",
          "data": {
            "text/plain": [
              "3.3333333333333335"
            ]
          },
          "metadata": {
            "tags": []
          },
          "execution_count": 56
        }
      ]
    },
    {
      "cell_type": "code",
      "metadata": {
        "colab": {
          "base_uri": "https://localhost:8080/"
        },
        "id": "IhUwR1lndEEI",
        "outputId": "1b3c9555-1a23-434f-cee2-bb6117f52d61"
      },
      "source": [
        "10 >= 2"
      ],
      "execution_count": 57,
      "outputs": [
        {
          "output_type": "execute_result",
          "data": {
            "text/plain": [
              "True"
            ]
          },
          "metadata": {
            "tags": []
          },
          "execution_count": 57
        }
      ]
    },
    {
      "cell_type": "code",
      "metadata": {
        "colab": {
          "base_uri": "https://localhost:8080/"
        },
        "id": "X3BQDTVCdZxl",
        "outputId": "d6658533-db25-47cd-96dd-c0b8a879c4cd"
      },
      "source": [
        "10 <= 2"
      ],
      "execution_count": 58,
      "outputs": [
        {
          "output_type": "execute_result",
          "data": {
            "text/plain": [
              "False"
            ]
          },
          "metadata": {
            "tags": []
          },
          "execution_count": 58
        }
      ]
    },
    {
      "cell_type": "code",
      "metadata": {
        "colab": {
          "base_uri": "https://localhost:8080/"
        },
        "id": "N7-Gf_asdfF3",
        "outputId": "52a969eb-ece2-49d6-9bf1-97431c99c750"
      },
      "source": [
        "10 == 2"
      ],
      "execution_count": 59,
      "outputs": [
        {
          "output_type": "execute_result",
          "data": {
            "text/plain": [
              "False"
            ]
          },
          "metadata": {
            "tags": []
          },
          "execution_count": 59
        }
      ]
    },
    {
      "cell_type": "code",
      "metadata": {
        "colab": {
          "base_uri": "https://localhost:8080/"
        },
        "id": "ZwaV2Q05dmjF",
        "outputId": "28b7bcd4-b861-4c8e-b60e-f3499fddbe17"
      },
      "source": [
        "10 != 2"
      ],
      "execution_count": 60,
      "outputs": [
        {
          "output_type": "execute_result",
          "data": {
            "text/plain": [
              "True"
            ]
          },
          "metadata": {
            "tags": []
          },
          "execution_count": 60
        }
      ]
    },
    {
      "cell_type": "code",
      "metadata": {
        "colab": {
          "base_uri": "https://localhost:8080/"
        },
        "id": "RUIjaR9mdxQu",
        "outputId": "b5da3025-5cd0-414e-a877-2cfa9e1eb24f"
      },
      "source": [
        "10%2 ==1 "
      ],
      "execution_count": 61,
      "outputs": [
        {
          "output_type": "execute_result",
          "data": {
            "text/plain": [
              "False"
            ]
          },
          "metadata": {
            "tags": []
          },
          "execution_count": 61
        }
      ]
    },
    {
      "cell_type": "code",
      "metadata": {
        "colab": {
          "base_uri": "https://localhost:8080/"
        },
        "id": "HSNVaSSfd9B6",
        "outputId": "3eb755a2-0522-4c18-9f56-46393b97369b"
      },
      "source": [
        "# 논리 연산자 : and or not \r\n",
        "\r\n",
        "1==1 and 2!=1"
      ],
      "execution_count": 62,
      "outputs": [
        {
          "output_type": "execute_result",
          "data": {
            "text/plain": [
              "True"
            ]
          },
          "metadata": {
            "tags": []
          },
          "execution_count": 62
        }
      ]
    },
    {
      "cell_type": "code",
      "metadata": {
        "colab": {
          "base_uri": "https://localhost:8080/"
        },
        "id": "Qysok2gZeb4Q",
        "outputId": "85c8ceca-e6e8-46e7-cc7b-e706efbf87f5"
      },
      "source": [
        "10<5 or 10==5"
      ],
      "execution_count": 63,
      "outputs": [
        {
          "output_type": "execute_result",
          "data": {
            "text/plain": [
              "False"
            ]
          },
          "metadata": {
            "tags": []
          },
          "execution_count": 63
        }
      ]
    },
    {
      "cell_type": "code",
      "metadata": {
        "colab": {
          "base_uri": "https://localhost:8080/"
        },
        "id": "k40negldekK-",
        "outputId": "90fb285f-4a2f-488a-c5d3-0f0b1be515e5"
      },
      "source": [
        "10>5 or 10==5"
      ],
      "execution_count": 64,
      "outputs": [
        {
          "output_type": "execute_result",
          "data": {
            "text/plain": [
              "True"
            ]
          },
          "metadata": {
            "tags": []
          },
          "execution_count": 64
        }
      ]
    },
    {
      "cell_type": "code",
      "metadata": {
        "colab": {
          "base_uri": "https://localhost:8080/"
        },
        "id": "sIOyecd5epT7",
        "outputId": "27054c0c-ff2f-4528-c1be-6a29015ab3b7"
      },
      "source": [
        "not 10>5"
      ],
      "execution_count": 65,
      "outputs": [
        {
          "output_type": "execute_result",
          "data": {
            "text/plain": [
              "False"
            ]
          },
          "metadata": {
            "tags": []
          },
          "execution_count": 65
        }
      ]
    },
    {
      "cell_type": "code",
      "metadata": {
        "colab": {
          "base_uri": "https://localhost:8080/"
        },
        "id": "9OFpSvTWexy3",
        "outputId": "9d4f541c-6133-49ca-98d1-9869eacc6c9e"
      },
      "source": [
        "not 10<5"
      ],
      "execution_count": 67,
      "outputs": [
        {
          "output_type": "execute_result",
          "data": {
            "text/plain": [
              "True"
            ]
          },
          "metadata": {
            "tags": []
          },
          "execution_count": 67
        }
      ]
    },
    {
      "cell_type": "code",
      "metadata": {
        "id": "EFimXd0ge0t5"
      },
      "source": [
        ""
      ],
      "execution_count": null,
      "outputs": []
    }
  ]
}